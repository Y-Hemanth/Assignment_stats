{
  "cells": [
    {
      "cell_type": "markdown",
      "metadata": {
        "id": "view-in-github",
        "colab_type": "text"
      },
      "source": [
        "<a href=\"https://colab.research.google.com/github/Y-Hemanth/Assignment_stats/blob/main/Assignment_stats.ipynb\" target=\"_parent\"><img src=\"https://colab.research.google.com/assets/colab-badge.svg\" alt=\"Open In Colab\"/></a>"
      ]
    },
    {
      "cell_type": "code",
      "execution_count": null,
      "id": "0744f4ea-59d4-4d40-90ba-9e32e3652663",
      "metadata": {
        "id": "0744f4ea-59d4-4d40-90ba-9e32e3652663",
        "outputId": "caffcd0f-240f-4861-c97e-dd1e03fcb405"
      },
      "outputs": [
        {
          "name": "stdout",
          "output_type": "stream",
          "text": [
            "[116, 100, 130, 106, 124, 130, 119, 90, 95, 100, 128, 106, 95, 127, 120, 91, 117, 99, 102, 98, 123, 122, 107, 120, 111, 115, 117, 97, 94, 93, 96, 120, 116, 117, 130, 119, 96, 106, 90, 118, 125, 126, 125, 130, 120, 98, 115, 115, 116, 106, 118, 116, 106, 114, 100, 119, 119, 118, 92, 121, 106, 100, 95, 123, 110, 123, 114, 116, 113, 104, 117, 121, 118, 102, 97, 94, 96, 97, 104, 99, 125, 94, 90, 103, 114, 92, 100, 113, 126, 96, 92, 118, 106, 105, 110, 107, 91, 122, 109, 113]\n"
          ]
        }
      ],
      "source": [
        "1) Generate a list of 100 integers containing values between 90 to 130 and store it in the variable `int_list`.\n",
        "after generating the list, find the following:\n"
      ]
    },
    {
      "cell_type": "code",
      "execution_count": null,
      "id": "83c39a60-e6c8-43b5-949e-3c36160d78a8",
      "metadata": {
        "id": "83c39a60-e6c8-43b5-949e-3c36160d78a8",
        "outputId": "f10f5a6a-1c68-4c98-e8fb-bdc07add5182"
      },
      "outputs": [
        {
          "name": "stdout",
          "output_type": "stream",
          "text": [
            "[107, 111, 112, 111, 90, 97, 128, 120, 127, 97, 113, 92, 118, 123, 99, 130, 94, 130, 118, 126, 95, 91, 126, 95, 98, 111, 105, 114, 105, 115, 90, 117, 101, 100, 107, 115, 94, 93, 109, 91, 117, 91, 120, 101, 124, 92, 101, 105, 113, 91, 122, 92, 119, 123, 124, 114, 111, 123, 108, 125, 101, 100, 104, 114, 111, 95, 127, 114, 97, 104, 91, 106, 130, 108, 109, 106, 117, 96, 117, 103, 108, 105, 118, 100, 120, 92, 93, 116, 114, 114, 129, 112, 113, 96, 91, 125, 112, 102, 129, 129]\n"
          ]
        }
      ],
      "source": [
        "import random\n",
        "\n",
        "int_list = []\n",
        "for i in range(100):\n",
        "    int_list.append(random.randint(90, 130))\n",
        "\n",
        "print(int_list)"
      ]
    },
    {
      "cell_type": "code",
      "execution_count": null,
      "id": "26f936ca-37f2-4515-8ad3-9408447fb165",
      "metadata": {
        "id": "26f936ca-37f2-4515-8ad3-9408447fb165"
      },
      "outputs": [],
      "source": [
        "(1,i) Write a Python function to calculate the mean of a given list of numbers.\n",
        "Create a function to find the median of a list of numbers."
      ]
    },
    {
      "cell_type": "code",
      "execution_count": null,
      "id": "49cbbcba-4595-43ff-85ac-0b462ff351c0",
      "metadata": {
        "id": "49cbbcba-4595-43ff-85ac-0b462ff351c0",
        "outputId": "da3e3326-bb57-4818-c1b6-ddb7dca85281"
      },
      "outputs": [
        {
          "name": "stdout",
          "output_type": "stream",
          "text": [
            "MEAN 112.48\n"
          ]
        }
      ],
      "source": [
        "def calculate_mean(numbers):\n",
        "    return sum(numbers) / len(numbers)\n",
        "mean = calculate_mean(int_list)\n",
        "print(\"MEAN\",mean)"
      ]
    },
    {
      "cell_type": "code",
      "execution_count": null,
      "id": "abf6fc2a-a843-46bc-a7d5-93b2538e9d9d",
      "metadata": {
        "id": "abf6fc2a-a843-46bc-a7d5-93b2538e9d9d",
        "outputId": "ed02a725-4e2f-496d-c724-6c1ea0e7dac1"
      },
      "outputs": [
        {
          "name": "stdout",
          "output_type": "stream",
          "text": [
            "median 114.0\n"
          ]
        }
      ],
      "source": [
        "#calculating median\n",
        "def calculate_median(numbers):\n",
        "    if len(numbers) == 0:\n",
        "        return 0\n",
        "    sorted_numbers = sorted(numbers)\n",
        "    n = len(sorted_numbers)\n",
        "    middle = n // 2\n",
        "\n",
        "    if n % 2 == 0:\n",
        "        return (sorted_numbers[middle - 1] + sorted_numbers[middle]) / 2\n",
        "    else:\n",
        "        return sorted_numbers[middle]\n",
        "median=calculate_median(int_list)\n",
        "print(\"median\",median)"
      ]
    },
    {
      "cell_type": "code",
      "execution_count": null,
      "id": "a36b9c4e-8b0a-46a4-bba6-e4d3a1133af5",
      "metadata": {
        "id": "a36b9c4e-8b0a-46a4-bba6-e4d3a1133af5"
      },
      "outputs": [],
      "source": [
        "(1,ii) Develop a program to compute the mode of a list of integers"
      ]
    },
    {
      "cell_type": "code",
      "execution_count": null,
      "id": "37c5948d-c50a-4b22-b0d0-491bdffc71d0",
      "metadata": {
        "id": "37c5948d-c50a-4b22-b0d0-491bdffc71d0",
        "outputId": "d76f099a-f0c1-4869-a36f-253a752bd4ab"
      },
      "outputs": [
        {
          "name": "stdout",
          "output_type": "stream",
          "text": [
            "Mode: 128\n"
          ]
        }
      ],
      "source": [
        "def calculate_mode(numbers):\n",
        "    if len(numbers) == 0:\n",
        "        return None\n",
        "\n",
        "    # Creating a dictionary to count the frequency of each number\n",
        "    frequency = {}\n",
        "    for num in numbers:\n",
        "        if num in frequency:\n",
        "            frequency[num] += 1\n",
        "        else:\n",
        "            frequency[num] = 1\n",
        "\n",
        "    # Finding the maximum frequency\n",
        "    max_count = max(frequency.values())\n",
        "\n",
        "\n",
        "    modes = [num for num, count in frequency.items() if count == max_count]\n",
        "\n",
        "    if len(modes) == 1:\n",
        "        return modes[0]\n",
        "    else:\n",
        "        return modes\n",
        "\n",
        "\n",
        "mode = calculate_mode(int_list)\n",
        "print(f\"Mode: {mode}\")\n"
      ]
    },
    {
      "cell_type": "code",
      "execution_count": null,
      "id": "84829e38-f924-424b-9e56-93bbaca315cb",
      "metadata": {
        "id": "84829e38-f924-424b-9e56-93bbaca315cb"
      },
      "outputs": [],
      "source": [
        "(1,iii) Implement a function to calculate the weighted mean of a list of values and their corresponding weights."
      ]
    },
    {
      "cell_type": "code",
      "execution_count": null,
      "id": "a53d674a-299a-4421-9062-0937c58244f3",
      "metadata": {
        "id": "a53d674a-299a-4421-9062-0937c58244f3",
        "outputId": "3a46febc-8025-400d-f1bc-ddcf992bb9ca"
      },
      "outputs": [
        {
          "name": "stdout",
          "output_type": "stream",
          "text": [
            "Weighted Mean: 112.48\n"
          ]
        }
      ],
      "source": [
        "def calculate_weighted_mean(values, weights):\n",
        "    if len(values) != len(weights):\n",
        "        raise ValueError(\"Lengths of values and weights must be the same.\")\n",
        "\n",
        "    weighted_sum = sum(value * weight for value, weight in zip(values, weights))\n",
        "    sum_of_weights = sum(weights)\n",
        "\n",
        "    if sum_of_weights == 0:\n",
        "        raise ValueError(\"Sum of weights cannot be zero.\")\n",
        "\n",
        "    return weighted_sum / sum_of_weights\n",
        "\n",
        "\n",
        "\n",
        "weights = [1] * len(int_list)\n",
        "\n",
        "weighted_mean = calculate_weighted_mean(int_list, weights)\n",
        "print(f\"Weighted Mean: {weighted_mean:.2f}\")\n"
      ]
    },
    {
      "cell_type": "code",
      "execution_count": null,
      "id": "d439b678-a4d3-48ba-b721-06e079df0d36",
      "metadata": {
        "id": "d439b678-a4d3-48ba-b721-06e079df0d36"
      },
      "outputs": [],
      "source": [
        "  (1,iv) Write a Python function to find the geometric mean of a list of positive numbers."
      ]
    },
    {
      "cell_type": "code",
      "execution_count": null,
      "id": "68d32e2b-f8bd-4ee6-ab3d-9e8aa5fbec57",
      "metadata": {
        "id": "68d32e2b-f8bd-4ee6-ab3d-9e8aa5fbec57",
        "outputId": "d74f02ea-c9fd-436a-c9e8-78868c4290bc"
      },
      "outputs": [
        {
          "name": "stdout",
          "output_type": "stream",
          "text": [
            "Geometric Mean: 111.87\n"
          ]
        }
      ],
      "source": [
        "import math\n",
        "\n",
        "def calculate_geometric_mean(numbers):\n",
        "    if any(num <= 0 for num in numbers):\n",
        "        raise ValueError(\"All numbers must be positive for geometric mean calculation.\")\n",
        "\n",
        "    product = 1\n",
        "    for num in numbers:\n",
        "        product *= num\n",
        "\n",
        "    geometric_mean = product ** (1 / len(numbers))\n",
        "    return geometric_mean\n",
        "\n",
        "\n",
        "geometric_mean = calculate_geometric_mean(int_list)\n",
        "print(f\"Geometric Mean: {geometric_mean:.2f}\")\n"
      ]
    },
    {
      "cell_type": "code",
      "execution_count": null,
      "id": "06b25a24-9124-4c68-90bc-a17312188c1a",
      "metadata": {
        "id": "06b25a24-9124-4c68-90bc-a17312188c1a"
      },
      "outputs": [],
      "source": [
        "(1,v) Create a program to calculate the harmonic mean of a list of values."
      ]
    },
    {
      "cell_type": "code",
      "execution_count": null,
      "id": "feaf2bc2-7a71-4954-b4a1-85cf070eb97b",
      "metadata": {
        "id": "feaf2bc2-7a71-4954-b4a1-85cf070eb97b",
        "outputId": "2bc526c5-5aca-4480-cb87-870e3b675328"
      },
      "outputs": [
        {
          "name": "stdout",
          "output_type": "stream",
          "text": [
            "Harmonic Mean: 111.25\n"
          ]
        }
      ],
      "source": [
        "def calculate_harmonic_mean(numbers):\n",
        "    if any(num == 0 for num in numbers):\n",
        "        raise ValueError(\"All numbers must be non-zero for harmonic mean calculation.\")\n",
        "\n",
        "    reciprocal_sum = sum(1 / num for num in numbers)\n",
        "    harmonic_mean = len(numbers) / reciprocal_sum\n",
        "\n",
        "    return harmonic_mean\n",
        "\n",
        "\n",
        "harmonic_mean = calculate_harmonic_mean(int_list)\n",
        "print(f\"Harmonic Mean: {harmonic_mean:.2f}\")\n"
      ]
    },
    {
      "cell_type": "code",
      "execution_count": null,
      "id": "d70ef02c-ad8d-4ae7-92c0-ed37e862bc18",
      "metadata": {
        "id": "d70ef02c-ad8d-4ae7-92c0-ed37e862bc18"
      },
      "outputs": [],
      "source": [
        " #(1,vi) Build a function to determine the midrange of a list of numbers (average of the minimum and maximum)"
      ]
    },
    {
      "cell_type": "code",
      "execution_count": null,
      "id": "be8d8aa9-b162-4dd9-926d-47f2c7b870b1",
      "metadata": {
        "id": "be8d8aa9-b162-4dd9-926d-47f2c7b870b1",
        "outputId": "20cf1c1c-eae4-4b74-f8d3-d34fcd6a5d64"
      },
      "outputs": [
        {
          "name": "stdout",
          "output_type": "stream",
          "text": [
            "Midrange: 110.00\n"
          ]
        }
      ],
      "source": [
        "def calculate_midrange(numbers):\n",
        "    if not numbers:\n",
        "        raise ValueError(\"List cannot be empty.\")\n",
        "\n",
        "    min_value = min(numbers)\n",
        "    max_value = max(numbers)\n",
        "    midrange = (min_value + max_value) / 2\n",
        "\n",
        "    return midrange\n",
        "\n",
        "# Example usage with int_list\n",
        "int_list = [128, 107, 122, 119, 93, 101, 117, 116, 116, 119, 120, 108, 112, 104, 101, 109, 118, 102, 113, 129, 100, 122, 90, 112, 97, 112, 107, 127, 129, 109, 116, 128, 130, 97, 95, 97, 90, 129, 124, 98, 123, 124, 101, 114, 104, 122, 103, 90, 127, 108, 123, 117, 114, 101, 119, 113, 110, 117, 117, 93, 128, 107, 130, 113, 94, 106, 125, 119, 124, 128, 99, 109, 124, 98, 103, 104, 129, 90, 128, 112, 120, 123, 97, 115, 98, 106, 121, 120, 118, 95, 102, 106, 123, 97, 126, 121, 128, 121, 118, 120]\n",
        "\n",
        "midrange = calculate_midrange(int_list)\n",
        "print(f\"Midrange: {midrange:.2f}\")\n"
      ]
    },
    {
      "cell_type": "code",
      "execution_count": null,
      "id": "f5d35bb6-a27c-4197-8760-d45a4fb66fe5",
      "metadata": {
        "id": "f5d35bb6-a27c-4197-8760-d45a4fb66fe5"
      },
      "outputs": [],
      "source": [
        "  (1,vii) Implement a Python program to find the trimmed mean of a list, excluding a certain percentage of\n",
        "outliers."
      ]
    },
    {
      "cell_type": "code",
      "execution_count": null,
      "id": "c7430bd1-1de1-4ee2-a3bd-d5932ee1c676",
      "metadata": {
        "id": "c7430bd1-1de1-4ee2-a3bd-d5932ee1c676",
        "outputId": "f19639c3-25f1-4203-8c29-a799c780e43a"
      },
      "outputs": [
        {
          "name": "stdout",
          "output_type": "stream",
          "text": [
            "Trimmed Mean (10%): 112.91\n"
          ]
        }
      ],
      "source": [
        "def calculate_trimmed_mean(numbers, trim_percent):\n",
        "    if not numbers:\n",
        "        raise ValueError(\"List cannot be empty.\")\n",
        "\n",
        "    if trim_percent < 0 or trim_percent > 50:\n",
        "        raise ValueError(\"Trim percentage must be between 0 and 50.\")\n",
        "\n",
        "    numbers_sorted = sorted(numbers)\n",
        "    trim_count = int(len(numbers_sorted) * (trim_percent / 100))\n",
        "\n",
        "    trimmed_numbers = numbers_sorted[trim_count : -trim_count]\n",
        "    trimmed_mean = sum(trimmed_numbers) / len(trimmed_numbers)\n",
        "\n",
        "    return trimmed_mean\n",
        "\n",
        "trim_percent=10\n",
        "\n",
        "trimmed_mean = calculate_trimmed_mean(int_list, trim_percent)\n",
        "print(f\"Trimmed Mean ({trim_percent}%): {trimmed_mean:.2f}\")\n"
      ]
    },
    {
      "cell_type": "code",
      "execution_count": null,
      "id": "afa84653-d19a-49a9-acab-5c59e206c2d3",
      "metadata": {
        "id": "afa84653-d19a-49a9-acab-5c59e206c2d3"
      },
      "outputs": [],
      "source": [
        "2. Generate a list of 500 integers containing values between 200 to 300 and store it in the variable `int_list2`.\n",
        "After generating the list, find the following"
      ]
    },
    {
      "cell_type": "code",
      "execution_count": null,
      "id": "dd1762e5-8960-4468-bf13-ee6e469a497a",
      "metadata": {
        "id": "dd1762e5-8960-4468-bf13-ee6e469a497a",
        "outputId": "ca6b7290-fe77-4803-e6dd-43d1a25c3ef1"
      },
      "outputs": [
        {
          "data": {
            "text/plain": [
              "[255,\n",
              " 203,\n",
              " 248,\n",
              " 258,\n",
              " 238,\n",
              " 297,\n",
              " 268,\n",
              " 287,\n",
              " 283,\n",
              " 239,\n",
              " 280,\n",
              " 237,\n",
              " 287,\n",
              " 219,\n",
              " 279,\n",
              " 300,\n",
              " 229,\n",
              " 215,\n",
              " 278,\n",
              " 284,\n",
              " 217,\n",
              " 222,\n",
              " 218,\n",
              " 239,\n",
              " 239,\n",
              " 213,\n",
              " 226,\n",
              " 297,\n",
              " 286,\n",
              " 275,\n",
              " 255,\n",
              " 228,\n",
              " 285,\n",
              " 244,\n",
              " 263,\n",
              " 276,\n",
              " 246,\n",
              " 291,\n",
              " 220,\n",
              " 257,\n",
              " 233,\n",
              " 207,\n",
              " 223,\n",
              " 266,\n",
              " 263,\n",
              " 253,\n",
              " 281,\n",
              " 259,\n",
              " 236,\n",
              " 211,\n",
              " 258,\n",
              " 212,\n",
              " 257,\n",
              " 272,\n",
              " 259,\n",
              " 267,\n",
              " 287,\n",
              " 223,\n",
              " 293,\n",
              " 245,\n",
              " 226,\n",
              " 232,\n",
              " 257,\n",
              " 273,\n",
              " 204,\n",
              " 280,\n",
              " 250,\n",
              " 235,\n",
              " 280,\n",
              " 210,\n",
              " 259,\n",
              " 245,\n",
              " 241,\n",
              " 214,\n",
              " 220,\n",
              " 226,\n",
              " 240,\n",
              " 281,\n",
              " 214,\n",
              " 291,\n",
              " 257,\n",
              " 253,\n",
              " 205,\n",
              " 248,\n",
              " 264,\n",
              " 224,\n",
              " 235,\n",
              " 280,\n",
              " 223,\n",
              " 255,\n",
              " 232,\n",
              " 262,\n",
              " 222,\n",
              " 206,\n",
              " 261,\n",
              " 273,\n",
              " 269,\n",
              " 276,\n",
              " 289,\n",
              " 241,\n",
              " 246,\n",
              " 264,\n",
              " 263,\n",
              " 247,\n",
              " 293,\n",
              " 244,\n",
              " 209,\n",
              " 227,\n",
              " 258,\n",
              " 293,\n",
              " 292,\n",
              " 253,\n",
              " 235,\n",
              " 300,\n",
              " 283,\n",
              " 289,\n",
              " 292,\n",
              " 297,\n",
              " 278,\n",
              " 234,\n",
              " 230,\n",
              " 215,\n",
              " 214,\n",
              " 268,\n",
              " 204,\n",
              " 266,\n",
              " 239,\n",
              " 249,\n",
              " 289,\n",
              " 282,\n",
              " 252,\n",
              " 222,\n",
              " 249,\n",
              " 234,\n",
              " 275,\n",
              " 252,\n",
              " 284,\n",
              " 200,\n",
              " 200,\n",
              " 232,\n",
              " 274,\n",
              " 268,\n",
              " 201,\n",
              " 220,\n",
              " 256,\n",
              " 300,\n",
              " 214,\n",
              " 250,\n",
              " 246,\n",
              " 253,\n",
              " 226,\n",
              " 218,\n",
              " 239,\n",
              " 213,\n",
              " 295,\n",
              " 241,\n",
              " 217,\n",
              " 245,\n",
              " 293,\n",
              " 238,\n",
              " 259,\n",
              " 212,\n",
              " 225,\n",
              " 202,\n",
              " 274,\n",
              " 274,\n",
              " 204,\n",
              " 285,\n",
              " 220,\n",
              " 299,\n",
              " 218,\n",
              " 200,\n",
              " 300,\n",
              " 300,\n",
              " 272,\n",
              " 262,\n",
              " 232,\n",
              " 290,\n",
              " 235,\n",
              " 245,\n",
              " 277,\n",
              " 275,\n",
              " 284,\n",
              " 280,\n",
              " 242,\n",
              " 285,\n",
              " 299,\n",
              " 214,\n",
              " 212,\n",
              " 229,\n",
              " 273,\n",
              " 286,\n",
              " 295,\n",
              " 291,\n",
              " 203,\n",
              " 256,\n",
              " 263,\n",
              " 267,\n",
              " 276,\n",
              " 202,\n",
              " 210,\n",
              " 293,\n",
              " 299,\n",
              " 218,\n",
              " 216,\n",
              " 263,\n",
              " 227,\n",
              " 250,\n",
              " 238,\n",
              " 211,\n",
              " 270,\n",
              " 287,\n",
              " 261,\n",
              " 201,\n",
              " 229,\n",
              " 256,\n",
              " 235,\n",
              " 236,\n",
              " 294,\n",
              " 254,\n",
              " 300,\n",
              " 258,\n",
              " 212,\n",
              " 287,\n",
              " 255,\n",
              " 234,\n",
              " 251,\n",
              " 236,\n",
              " 250,\n",
              " 220,\n",
              " 204,\n",
              " 204,\n",
              " 207,\n",
              " 224,\n",
              " 293,\n",
              " 225,\n",
              " 241,\n",
              " 217,\n",
              " 272,\n",
              " 251,\n",
              " 278,\n",
              " 248,\n",
              " 241,\n",
              " 248,\n",
              " 207,\n",
              " 273,\n",
              " 277,\n",
              " 220,\n",
              " 275,\n",
              " 216,\n",
              " 293,\n",
              " 234,\n",
              " 252,\n",
              " 201,\n",
              " 207,\n",
              " 293,\n",
              " 214,\n",
              " 222,\n",
              " 216,\n",
              " 287,\n",
              " 283,\n",
              " 260,\n",
              " 205,\n",
              " 238,\n",
              " 240,\n",
              " 286,\n",
              " 278,\n",
              " 236,\n",
              " 259,\n",
              " 288,\n",
              " 218,\n",
              " 202,\n",
              " 277,\n",
              " 232,\n",
              " 266,\n",
              " 273,\n",
              " 272,\n",
              " 243,\n",
              " 210,\n",
              " 261,\n",
              " 283,\n",
              " 254,\n",
              " 284,\n",
              " 279,\n",
              " 241,\n",
              " 211,\n",
              " 289,\n",
              " 292,\n",
              " 202,\n",
              " 294,\n",
              " 228,\n",
              " 234,\n",
              " 225,\n",
              " 200,\n",
              " 209,\n",
              " 217,\n",
              " 225,\n",
              " 291,\n",
              " 217,\n",
              " 297,\n",
              " 234,\n",
              " 200,\n",
              " 238,\n",
              " 267,\n",
              " 214,\n",
              " 228,\n",
              " 262,\n",
              " 283,\n",
              " 228,\n",
              " 204,\n",
              " 266,\n",
              " 236,\n",
              " 213,\n",
              " 202,\n",
              " 206,\n",
              " 263,\n",
              " 244,\n",
              " 281,\n",
              " 268,\n",
              " 291,\n",
              " 228,\n",
              " 250,\n",
              " 297,\n",
              " 230,\n",
              " 287,\n",
              " 274,\n",
              " 247,\n",
              " 288,\n",
              " 248,\n",
              " 203,\n",
              " 275,\n",
              " 218,\n",
              " 218,\n",
              " 229,\n",
              " 258,\n",
              " 283,\n",
              " 256,\n",
              " 269,\n",
              " 238,\n",
              " 291,\n",
              " 274,\n",
              " 201,\n",
              " 271,\n",
              " 223,\n",
              " 222,\n",
              " 224,\n",
              " 256,\n",
              " 225,\n",
              " 284,\n",
              " 245,\n",
              " 248,\n",
              " 222,\n",
              " 262,\n",
              " 214,\n",
              " 247,\n",
              " 291,\n",
              " 275,\n",
              " 261,\n",
              " 291,\n",
              " 217,\n",
              " 205,\n",
              " 272,\n",
              " 244,\n",
              " 235,\n",
              " 273,\n",
              " 256,\n",
              " 226,\n",
              " 277,\n",
              " 234,\n",
              " 225,\n",
              " 243,\n",
              " 205,\n",
              " 207,\n",
              " 219,\n",
              " 233,\n",
              " 220,\n",
              " 220,\n",
              " 267,\n",
              " 244,\n",
              " 242,\n",
              " 249,\n",
              " 233,\n",
              " 241,\n",
              " 254,\n",
              " 237,\n",
              " 297,\n",
              " 243,\n",
              " 212,\n",
              " 222,\n",
              " 216,\n",
              " 292,\n",
              " 257,\n",
              " 218,\n",
              " 237,\n",
              " 222,\n",
              " 278,\n",
              " 226,\n",
              " 244,\n",
              " 227,\n",
              " 221,\n",
              " 297,\n",
              " 251,\n",
              " 200,\n",
              " 203,\n",
              " 298,\n",
              " 259,\n",
              " 258,\n",
              " 218,\n",
              " 290,\n",
              " 239,\n",
              " 225,\n",
              " 207,\n",
              " 256,\n",
              " 262,\n",
              " 259,\n",
              " 239,\n",
              " 217,\n",
              " 211,\n",
              " 241,\n",
              " 227,\n",
              " 250,\n",
              " 234,\n",
              " 240,\n",
              " 266,\n",
              " 274,\n",
              " 201,\n",
              " 277,\n",
              " 233,\n",
              " 209,\n",
              " 216,\n",
              " 278,\n",
              " 247,\n",
              " 291,\n",
              " 215,\n",
              " 252,\n",
              " 244,\n",
              " 217,\n",
              " 247,\n",
              " 200,\n",
              " 275,\n",
              " 234,\n",
              " 291,\n",
              " 223,\n",
              " 212,\n",
              " 272,\n",
              " 286,\n",
              " 234,\n",
              " 218,\n",
              " 245,\n",
              " 252,\n",
              " 273,\n",
              " 216,\n",
              " 211,\n",
              " 221,\n",
              " 262,\n",
              " 281,\n",
              " 229,\n",
              " 288,\n",
              " 218,\n",
              " 247,\n",
              " 240,\n",
              " 254,\n",
              " 232,\n",
              " 269,\n",
              " 265,\n",
              " 216,\n",
              " 255,\n",
              " 271,\n",
              " 276,\n",
              " 297,\n",
              " 263,\n",
              " 267,\n",
              " 286,\n",
              " 297,\n",
              " 203,\n",
              " 242,\n",
              " 226,\n",
              " 206,\n",
              " 285,\n",
              " 205,\n",
              " 211,\n",
              " 244,\n",
              " 227,\n",
              " 287,\n",
              " 282,\n",
              " 255,\n",
              " 284,\n",
              " 259,\n",
              " 263,\n",
              " 209,\n",
              " 209,\n",
              " 290,\n",
              " 237,\n",
              " 245,\n",
              " 222,\n",
              " 251,\n",
              " 294,\n",
              " 274,\n",
              " 247,\n",
              " 208]"
            ]
          },
          "execution_count": 4,
          "metadata": {},
          "output_type": "execute_result"
        }
      ],
      "source": [
        "int_list2=[]\n",
        "for i in range(500):\n",
        "    int_list2.append(random.randint(200,300))\n",
        "int_list2\n"
      ]
    },
    {
      "cell_type": "code",
      "execution_count": null,
      "id": "4fdc9fa1-d3ee-435c-8d46-40c0e1ad79d0",
      "metadata": {
        "id": "4fdc9fa1-d3ee-435c-8d46-40c0e1ad79d0"
      },
      "outputs": [],
      "source": [
        "  (i) Compare the given list of visualization for the given data:\n",
        "\n",
        "\n",
        "\n",
        "    1. Frequency & Gaussian distribution\n",
        "\n",
        "    2. Frequency smoothened KDE plot\n",
        "\n",
        "    3. Gaussian distribution & smoothened KDE plot"
      ]
    },
    {
      "cell_type": "code",
      "execution_count": null,
      "id": "659845d7-2f74-4b0b-a298-91e78b68170b",
      "metadata": {
        "id": "659845d7-2f74-4b0b-a298-91e78b68170b",
        "outputId": "b07ce2e1-14fc-437e-f9e8-78296d0b5d74"
      },
      "outputs": [
        {
          "data": {
            "image/png": "[encoded data removed]",
            "text/plain": [
              "<Figure size 1000x600 with 1 Axes>"
            ]
          },
          "metadata": {},
          "output_type": "display_data"
        }
      ],
      "source": [
        "# 1. Frequency & Gaussian distribution\n",
        "import matplotlib.pyplot as plt\n",
        "import numpy as np\n",
        "from scipy.stats import norm\n",
        "import seaborn as sns\n",
        "\n",
        "# Data\n",
        "mean, std = np.mean(int_list2), np.std(int_list2)\n",
        "x = np.linspace(200, 300, 1000)\n",
        "\n",
        "# Plot\n",
        "plt.figure(figsize=(10, 6))\n",
        "sns.histplot(int_list2, bins=30, kde=False, color='skyblue', stat='density')\n",
        "plt.plot(x, norm.pdf(x, mean, std), 'r-', lw=2, label='Gaussian distribution')\n",
        "plt.title('Frequency & Gaussian Distribution')\n",
        "plt.legend()\n",
        "plt.show()\n"
      ]
    },
    {
      "cell_type": "code",
      "execution_count": null,
      "id": "3ef53123-56b8-45f5-916b-e8e150b2a727",
      "metadata": {
        "id": "3ef53123-56b8-45f5-916b-e8e150b2a727"
      },
      "outputs": [],
      "source": [
        "2. Frequency smoothened KDE plot"
      ]
    },
    {
      "cell_type": "code",
      "execution_count": null,
      "id": "a65e82a4-9d93-47b1-982f-379006fce0a8",
      "metadata": {
        "id": "a65e82a4-9d93-47b1-982f-379006fce0a8",
        "outputId": "e0c25a06-0634-4fe1-808f-bea86ce83d62"
      },
      "outputs": [
        {
          "data": {
            "image/png": "[encoded data removed]",
            "text/plain": [
              "<Figure size 1000x600 with 1 Axes>"
            ]
          },
          "metadata": {},
          "output_type": "display_data"
        }
      ],
      "source": [
        "import matplotlib.pyplot as plt\n",
        "import seaborn as sns\n",
        "\n",
        "# Plot\n",
        "plt.figure(figsize=(10, 6))\n",
        "sns.histplot(int_list2, bins=30, kde=True, color='skyblue', stat='density')\n",
        "plt.title('Frequency Smoothened KDE Plot')\n",
        "plt.show()\n"
      ]
    },
    {
      "cell_type": "code",
      "execution_count": null,
      "id": "adec1176-ff24-4294-9500-ecb34c895dea",
      "metadata": {
        "id": "adec1176-ff24-4294-9500-ecb34c895dea"
      },
      "outputs": [],
      "source": [
        "3. Gaussian distribution & smoothened KDE plot"
      ]
    },
    {
      "cell_type": "code",
      "execution_count": null,
      "id": "f037ce58-440e-4038-9946-af2a94eb29b6",
      "metadata": {
        "id": "f037ce58-440e-4038-9946-af2a94eb29b6",
        "outputId": "b2e2d863-461c-4bd6-8345-8d1968d18027"
      },
      "outputs": [
        {
          "data": {
            "image/png": "[encoded data removed]",
            "text/plain": [
              "<Figure size 1000x600 with 1 Axes>"
            ]
          },
          "metadata": {},
          "output_type": "display_data"
        }
      ],
      "source": [
        "import matplotlib.pyplot as plt\n",
        "import numpy as np\n",
        "from scipy.stats import norm\n",
        "import seaborn as sns\n",
        "\n",
        "# Data\n",
        "mean, std = np.mean(int_list2), np.std(int_list2)\n",
        "x = np.linspace(200, 300, 1000)\n",
        "\n",
        "# Plot\n",
        "plt.figure(figsize=(10, 6))\n",
        "sns.kdeplot(int_list2, color='blue', lw=2, label='KDE Plot')\n",
        "plt.plot(x, norm.pdf(x, mean, std), 'r-', lw=2, label='Gaussian distribution')\n",
        "plt.title('Gaussian Distribution & Smoothened KDE Plot')\n",
        "plt.legend()\n",
        "plt.show()\n"
      ]
    },
    {
      "cell_type": "code",
      "execution_count": null,
      "id": "5154c45f-5ebd-4fac-bf97-70070cec29f6",
      "metadata": {
        "id": "5154c45f-5ebd-4fac-bf97-70070cec29f6"
      },
      "outputs": [],
      "source": [
        " 2 (ii) Write a Python function to calculate the range of a given list of numbers"
      ]
    },
    {
      "cell_type": "code",
      "execution_count": null,
      "id": "48ef7467-3dba-494e-91f1-d0acb9b4cedd",
      "metadata": {
        "id": "48ef7467-3dba-494e-91f1-d0acb9b4cedd",
        "outputId": "df068e0e-0793-486c-81b5-c7af616e3ca4"
      },
      "outputs": [
        {
          "name": "stdout",
          "output_type": "stream",
          "text": [
            "100\n"
          ]
        }
      ],
      "source": [
        "def calculate_range(numbers):\n",
        "    return max(numbers) - min(numbers)\n",
        "\n",
        "\n",
        "int_list2_range = calculate_range(int_list2)\n",
        "print(int_list2_range)\n"
      ]
    },
    {
      "cell_type": "code",
      "execution_count": null,
      "id": "1f8dcb30-29af-4245-9971-9e7a5c131a7d",
      "metadata": {
        "id": "1f8dcb30-29af-4245-9971-9e7a5c131a7d"
      },
      "outputs": [],
      "source": [
        "2 (iii) Create a program to find the variance and standard deviation of a list of numbers. for int_list2"
      ]
    },
    {
      "cell_type": "code",
      "execution_count": null,
      "id": "7d3a625f-7616-4162-9d5a-343ffa79016c",
      "metadata": {
        "id": "7d3a625f-7616-4162-9d5a-343ffa79016c",
        "outputId": "617734c0-c838-441a-ab34-7911fb43d596"
      },
      "outputs": [
        {
          "name": "stdout",
          "output_type": "stream",
          "text": [
            "Variance: 825.7495159999999\n",
            "Standard Deviation: 28.73585766946934\n"
          ]
        }
      ],
      "source": [
        "import math\n",
        "\n",
        "def calculate_variance(numbers):\n",
        "    mean = sum(numbers) / len(numbers)\n",
        "    return sum((x - mean) ** 2 for x in numbers) / len(numbers)\n",
        "\n",
        "def calculate_standard_deviation(numbers):\n",
        "    variance = calculate_variance(numbers)\n",
        "    return math.sqrt(variance)\n",
        "\n",
        "variance_int_list2 = calculate_variance(int_list2)\n",
        "standard_deviation_int_list2 = calculate_standard_deviation(int_list2)\n",
        "\n",
        "print(\"Variance:\", variance_int_list2)\n",
        "print(\"Standard Deviation:\", standard_deviation_int_list2)\n"
      ]
    },
    {
      "cell_type": "code",
      "execution_count": null,
      "id": "19024508-18c3-45db-a476-432a226b6758",
      "metadata": {
        "id": "19024508-18c3-45db-a476-432a226b6758"
      },
      "outputs": [],
      "source": [
        "2  (iv) Implement a function to compute the interquartile range (IQR) of a list of values."
      ]
    },
    {
      "cell_type": "code",
      "execution_count": null,
      "id": "51b4c934-593b-4631-9a0a-51b562572561",
      "metadata": {
        "id": "51b4c934-593b-4631-9a0a-51b562572561",
        "outputId": "c734fbc6-256c-4eb6-f28e-d19b25225ff6"
      },
      "outputs": [
        {
          "name": "stdout",
          "output_type": "stream",
          "text": [
            "Interquartile Range (IQR): 50.0\n"
          ]
        }
      ],
      "source": [
        "def calculate_iqr(numbers):\n",
        "\n",
        "    sorted_numbers = sorted(numbers)\n",
        "\n",
        "    # Calculating the positions of Q1 and Q3\n",
        "    n = len(sorted_numbers)\n",
        "    q1_pos = n // 4\n",
        "    q3_pos = (3 * n) // 4\n",
        "\n",
        "    # Calculating Q1 and Q3\n",
        "    if n % 4 == 0:\n",
        "        q1 = (sorted_numbers[q1_pos - 1] + sorted_numbers[q1_pos]) / 2\n",
        "        q3 = (sorted_numbers[q3_pos - 1] + sorted_numbers[q3_pos]) / 2\n",
        "    else:\n",
        "        q1 = sorted_numbers[q1_pos]\n",
        "        q3 = sorted_numbers[q3_pos]\n",
        "\n",
        "    # Calculating and return the IQR\n",
        "    iqr = q3 - q1\n",
        "    return iqr\n",
        "\n",
        "# Example usage with int_list2\n",
        "iqr_int_list2 = calculate_iqr(int_list2)\n",
        "print(\"Interquartile Range (IQR):\", iqr_int_list2)\n"
      ]
    },
    {
      "cell_type": "code",
      "execution_count": null,
      "id": "1ffab186-5a8b-4072-800d-4278876ab5bf",
      "metadata": {
        "id": "1ffab186-5a8b-4072-800d-4278876ab5bf"
      },
      "outputs": [],
      "source": [
        "2   (v) Build a program to calculate the coefficient of variation for a dataset."
      ]
    },
    {
      "cell_type": "code",
      "execution_count": null,
      "id": "d2c7b64c-a890-41f3-b477-644326d97ae2",
      "metadata": {
        "id": "d2c7b64c-a890-41f3-b477-644326d97ae2",
        "outputId": "cba9e510-f121-451b-d11e-5e8bddb0aed6"
      },
      "outputs": [
        {
          "name": "stdout",
          "output_type": "stream",
          "text": [
            "Coefficient of variation for int_list2: 0.1148389746919526\n"
          ]
        }
      ],
      "source": [
        "import statistics\n",
        "\n",
        "def coefficient_of_variation(data):\n",
        "    mean = statistics.mean(data)\n",
        "    stdev = statistics.stdev(data)\n",
        "    cv = stdev / mean\n",
        "    return cv\n",
        "\n",
        "\n",
        "cv_int_list2 = coefficient_of_variation(int_list2)\n",
        "\n",
        "print(\"Coefficient of variation for int_list2:\", cv_int_list2)\n"
      ]
    },
    {
      "cell_type": "code",
      "execution_count": null,
      "id": "504503f4-0693-42ab-93bb-a773f28ec311",
      "metadata": {
        "id": "504503f4-0693-42ab-93bb-a773f28ec311"
      },
      "outputs": [],
      "source": [
        "2     (vi) Write a Python function to find the mean absolute deviation (MAD) of a list of numbers."
      ]
    },
    {
      "cell_type": "code",
      "execution_count": null,
      "id": "49347ae6-2a1f-4dd2-bfbc-23aade39d697",
      "metadata": {
        "id": "49347ae6-2a1f-4dd2-bfbc-23aade39d697",
        "outputId": "9de6916d-3fb8-44db-dc11-755b88341e26"
      },
      "outputs": [
        {
          "name": "stdout",
          "output_type": "stream",
          "text": [
            "Mean Absolute Deviation for int_list2: 26.235871999999993\n"
          ]
        }
      ],
      "source": [
        "\n",
        "def mean_absolute_deviation(data):\n",
        "    n = len(data)\n",
        "    mean = sum(data) / n\n",
        "    mad = sum(abs(x - mean) for x in data) / n\n",
        "    return mad\n",
        "\n",
        "int_list2 = [random.randint(200, 300) for _ in range(500)]\n",
        "mad_int_list2 = mean_absolute_deviation(int_list2)\n",
        "\n",
        "print(\"Mean Absolute Deviation for int_list2:\", mad_int_list2)\n"
      ]
    },
    {
      "cell_type": "code",
      "execution_count": null,
      "id": "4c854835-709d-419d-b23e-73d5d541f670",
      "metadata": {
        "id": "4c854835-709d-419d-b23e-73d5d541f670"
      },
      "outputs": [],
      "source": [
        "2  (vii) Create a program to calculate the quartile deviation of a list of values."
      ]
    },
    {
      "cell_type": "code",
      "execution_count": null,
      "id": "9cbb93dc-a9c4-47b7-b1a8-e9dffee9f209",
      "metadata": {
        "id": "9cbb93dc-a9c4-47b7-b1a8-e9dffee9f209",
        "outputId": "e4116a8e-dbf4-4ce1-e908-d25a499367cf"
      },
      "outputs": [
        {
          "name": "stdout",
          "output_type": "stream",
          "text": [
            "Quartile Deviation for int_list2: 25.875\n"
          ]
        }
      ],
      "source": [
        "import statistics\n",
        "\n",
        "def quartile_deviation(data):\n",
        "\n",
        "    sorted_data = sorted(data)\n",
        "\n",
        "    q1 = statistics.quantiles(sorted_data, n=4)[0]\n",
        "\n",
        "\n",
        "    q3 = statistics.quantiles(sorted_data, n=4)[-1]\n",
        "\n",
        "\n",
        "    qd = (q3 - q1) / 2\n",
        "\n",
        "    return qd\n",
        "\n",
        "int_list2 = [random.randint(200, 300) for _ in range(500)]\n",
        "qd_int_list2 = quartile_deviation(int_list2)\n",
        "\n",
        "\n",
        "print(\"Quartile Deviation for int_list2:\", qd_int_list2)\n"
      ]
    },
    {
      "cell_type": "code",
      "execution_count": null,
      "id": "02912edd-e589-4285-adeb-d5a67c2403c1",
      "metadata": {
        "id": "02912edd-e589-4285-adeb-d5a67c2403c1"
      },
      "outputs": [],
      "source": [
        "2  (viii) Implement a function to find the range-based coefficient of dispersion for a dataset."
      ]
    },
    {
      "cell_type": "code",
      "execution_count": null,
      "id": "0869c3d0-e21e-496c-9f0b-da0a0a9b4ecc",
      "metadata": {
        "id": "0869c3d0-e21e-496c-9f0b-da0a0a9b4ecc",
        "outputId": "8a1c160b-ae93-47a3-d2e8-74bd499076e2"
      },
      "outputs": [
        {
          "name": "stdout",
          "output_type": "stream",
          "text": [
            "Range-based Coefficient of Dispersion: 0.40278404330734036\n"
          ]
        }
      ],
      "source": [
        "def calculate_range_based_coefficient_of_dispersion(numbers):\n",
        "    range_value = max(numbers) - min(numbers)\n",
        "    mean_value = sum(numbers) / len(numbers)\n",
        "    coefficient_of_dispersion = range_value / mean_value\n",
        "    return coefficient_of_dispersion\n",
        "\n",
        "range_based_coefficient_of_dispersion = calculate_range_based_coefficient_of_dispersion(int_list2)\n",
        "print(\"Range-based Coefficient of Dispersion:\", range_based_coefficient_of_dispersion)\n"
      ]
    },
    {
      "cell_type": "code",
      "execution_count": null,
      "id": "8bf86a34-a8f8-4824-a318-4d09b92c1adc",
      "metadata": {
        "id": "8bf86a34-a8f8-4824-a318-4d09b92c1adc"
      },
      "outputs": [],
      "source": [
        "3)  Write a Python class representing a discrete random variable with methods to calculate its expected\n",
        "value and variance."
      ]
    },
    {
      "cell_type": "code",
      "execution_count": null,
      "id": "d1a63e57-ce5f-4954-85fb-89213d17cc1b",
      "metadata": {
        "id": "d1a63e57-ce5f-4954-85fb-89213d17cc1b",
        "outputId": "9fad2e17-5a45-4214-c97a-3d899271e2e7"
      },
      "outputs": [
        {
          "name": "stdout",
          "output_type": "stream",
          "text": [
            "Expected Value: 250.0\n",
            "Variance: 1500.0\n"
          ]
        }
      ],
      "source": [
        "class DiscreteRandomVariable:\n",
        "    def __init__(self, values, probabilities):\n",
        "        if len(values) != len(probabilities):\n",
        "            raise ValueError(\"The length of values and probabilities must be the same.\")\n",
        "        if not (0 <= min(probabilities) and max(probabilities) <= 1):\n",
        "            raise ValueError(\"Probabilities must be between 0 and 1.\")\n",
        "        if sum(probabilities) != 1:\n",
        "            raise ValueError(\"The sum of probabilities must be 1.\")\n",
        "\n",
        "        self.values = values\n",
        "        self.probabilities = probabilities\n",
        "\n",
        "    def expected_value(self):\n",
        "        return sum(value * prob for value, prob in zip(self.values, self.probabilities))\n",
        "\n",
        "    def variance(self):\n",
        "        mean = self.expected_value()\n",
        "        return sum(prob * (value - mean) ** 2 for value, prob in zip(self.values, self.probabilities))\n",
        "\n",
        "\n",
        "values = [200, 250, 300]\n",
        "probabilities = [0.3, 0.4, 0.3]\n",
        "\n",
        "random_variable = DiscreteRandomVariable(values, probabilities)\n",
        "expected_value = random_variable.expected_value()\n",
        "variance = random_variable.variance()\n",
        "\n",
        "print(\"Expected Value:\", expected_value)\n",
        "print(\"Variance:\", variance)\n"
      ]
    },
    {
      "cell_type": "code",
      "execution_count": null,
      "id": "dee719be-7952-46f9-959e-0857615bb6e2",
      "metadata": {
        "id": "dee719be-7952-46f9-959e-0857615bb6e2"
      },
      "outputs": [],
      "source": [
        "4) Implement a program to simulate the rolling of a fair six-sided die and calculate the expected value and\n",
        "variance of the outcomes."
      ]
    },
    {
      "cell_type": "code",
      "execution_count": null,
      "id": "61669ce3-1e9b-4cc4-a22a-12fcaa49447e",
      "metadata": {
        "id": "61669ce3-1e9b-4cc4-a22a-12fcaa49447e",
        "outputId": "1c69bf84-16e0-4758-f84a-f64169132823"
      },
      "outputs": [
        {
          "name": "stdout",
          "output_type": "stream",
          "text": [
            "Empirical Expected Value: 3.45\n",
            "Empirical Variance: 2.5874999999999995\n",
            "Theoretical Expected Value: 3.5\n",
            "Theoretical Variance: 2.9166666666666665\n"
          ]
        }
      ],
      "source": [
        "import random\n",
        "\n",
        "class DiscreteRandomVariable:\n",
        "    def __init__(self, values, probabilities):\n",
        "        # if len(values) != len(probabilities):\n",
        "        #     raise ValueError(\"The length of values and probabilities must be the same.\")\n",
        "        # if not all(0 <= prob <= 1 for prob in probabilities):\n",
        "        #     raise ValueError(\"Probabilities must be between 0 and 1.\")\n",
        "        # if sum(probabilities) != 1:\n",
        "        #     raise ValueError(\"The sum of probabilities must be 1.\")\n",
        "\n",
        "        self.values = values\n",
        "        self.probabilities = probabilities\n",
        "\n",
        "    def expected_value(self):\n",
        "        return sum(value * prob for value, prob in zip(self.values, self.probabilities))\n",
        "\n",
        "    def variance(self):\n",
        "        mean = self.expected_value()\n",
        "        return sum(prob * (value - mean) ** 2 for value, prob in zip(self.values, self.probabilities))\n",
        "\n",
        "def simulate_die_rolls(n_rolls):\n",
        "    outcomes = [random.randint(1, 6) for _ in range(n_rolls)]\n",
        "    return outcomes\n",
        "\n",
        "def calculate_empirical_expected_value_and_variance(outcomes):\n",
        "    n = len(outcomes)\n",
        "    mean = sum(outcomes) / n\n",
        "    variance = sum((x - mean) ** 2 for x in outcomes) / n\n",
        "    return mean, variance\n",
        "\n",
        "\n",
        "n_rolls = 100\n",
        "outcomes = simulate_die_rolls(n_rolls)\n",
        "\n",
        "# Calculate empirical expected value and variance\n",
        "empirical_mean, empirical_variance = calculate_empirical_expected_value_and_variance(outcomes)\n",
        "\n",
        "# Theoretical expected value and variance of a fair six-sided die\n",
        "values = [1, 2, 3, 4, 5, 6]\n",
        "probabilities = [1/6] * 6\n",
        "die = DiscreteRandomVariable(values, probabilities)\n",
        "theoretical_mean = die.expected_value()\n",
        "theoretical_variance = die.variance()\n",
        "\n",
        "print(f\"Empirical Expected Value: {empirical_mean}\")\n",
        "print(f\"Empirical Variance: {empirical_variance}\")\n",
        "print(f\"Theoretical Expected Value: {theoretical_mean}\")\n",
        "print(f\"Theoretical Variance: {theoretical_variance}\")\n"
      ]
    },
    {
      "cell_type": "code",
      "execution_count": null,
      "id": "2c3ec9a8-af98-44fa-9910-d34c6485679b",
      "metadata": {
        "id": "2c3ec9a8-af98-44fa-9910-d34c6485679b",
        "outputId": "46dafd6d-a006-49b0-f6fe-3f61a82370a4"
      },
      "outputs": [
        {
          "name": "stdout",
          "output_type": "stream",
          "text": [
            "Binomial Distribution - Mean: 5.029 Variance: 2.5501590000000007\n",
            "Poisson Distribution - Mean: 3.044 Variance: 3.028064\n"
          ]
        }
      ],
      "source": [
        "#5)  Create a Python function to generate random samples from a given probability distribution (e.g.,  binomial, Poisson) and calculate their mean and variance. solve with simple example\n",
        "import numpy as np\n",
        "\n",
        "def generate_samples(distribution, params, size=1000):\n",
        "\n",
        "    if distribution == 'binomial':\n",
        "        n = params.get('n', 1)\n",
        "        p = params.get('p', 0.5)\n",
        "        samples = np.random.binomial(n, p, size)\n",
        "    elif distribution == 'poisson':\n",
        "        lam = params.get('lam', 1)\n",
        "        samples = np.random.poisson(lam, size)\n",
        "    else:\n",
        "        raise ValueError(\"Unsupported distribution type. Supported types are 'binomial' and 'poisson'.\")\n",
        "\n",
        "    mean = np.mean(samples)\n",
        "    variance = np.var(samples)\n",
        "\n",
        "    return samples, mean, variance\n",
        "\n",
        "\n",
        "binomial_params = {'n': 10, 'p': 0.5}\n",
        "poisson_params = {'lam': 3}\n",
        "\n",
        "binomial_samples, binomial_mean, binomial_variance = generate_samples('binomial', binomial_params)\n",
        "poisson_samples, poisson_mean, poisson_variance = generate_samples('poisson', poisson_params)\n",
        "\n",
        "print(\"Binomial Distribution - Mean:\", binomial_mean, \"Variance:\", binomial_variance)\n",
        "print(\"Poisson Distribution - Mean:\", poisson_mean, \"Variance:\", poisson_variance)\n"
      ]
    },
    {
      "cell_type": "code",
      "execution_count": null,
      "id": "92b26cc8-0809-477b-ac6f-de91c29e0c3b",
      "metadata": {
        "id": "92b26cc8-0809-477b-ac6f-de91c29e0c3b",
        "outputId": "f3af72a0-99f2-4dca-ec47-e997be92db27"
      },
      "outputs": [
        {
          "name": "stdout",
          "output_type": "stream",
          "text": [
            "Generated Samples:\n",
            "[-9.81231412e-01  1.74385010e+00 -8.90386326e-01  3.61125985e-01\n",
            " -2.48137825e-01  1.66767524e-01  2.08562158e+00 -8.73149174e-01\n",
            "  1.03768982e+00  1.54324299e-01 -7.95432065e-01  9.59774531e-01\n",
            "  3.52362430e-02 -6.24373285e-01  4.62539364e-01  6.96466430e-02\n",
            "  3.50312452e-01 -1.68688405e-03 -2.70937973e-01 -1.87512389e-01\n",
            "  9.07790971e-02 -1.39029115e-01  1.23987893e+00  7.24574100e-01\n",
            "  4.20807196e-01 -1.81602460e+00 -3.32789955e-02 -1.36457716e+00\n",
            " -5.98799881e-01  2.71789569e-01  1.51715910e+00 -8.70950430e-01\n",
            " -9.48740103e-01 -9.52103574e-01 -5.03394747e-01  2.21270939e+00\n",
            " -1.09681125e+00 -4.63698379e-01 -4.89644604e-01 -5.23438931e-01\n",
            " -1.71389510e+00 -2.03961902e-01 -5.99024341e-01  2.13396416e-01\n",
            " -6.67717612e-01 -4.72289624e-01 -2.64409499e+00 -1.23091533e+00\n",
            " -5.65749690e-01 -2.05113097e+00  5.69125292e-01  1.46093641e+00\n",
            " -1.39454068e+00 -6.33538277e-01 -3.90267567e-01  2.45576888e+00\n",
            " -7.97264681e-01  5.44183873e-01 -5.68212313e-01 -9.62739295e-02\n",
            "  6.57639477e-01 -3.68354294e-01 -7.78956526e-02  4.14759478e-01\n",
            "  1.26846785e-01  6.22616539e-02 -7.16977866e-01 -6.38463898e-01\n",
            " -1.52809236e+00  1.07066597e-01 -2.01867279e-01 -1.89663189e+00\n",
            " -9.32712877e-01  6.79676730e-01  1.65366440e+00 -2.42448537e-01\n",
            " -2.81834719e-01  1.15256666e+00 -1.28266138e+00 -3.77671798e-01\n",
            "  4.96090291e-01  1.08335984e+00  9.96336018e-01 -1.02553146e+00\n",
            " -1.72922749e+00 -3.77353411e-01  1.00864169e+00  9.88930546e-01\n",
            "  1.05919976e+00 -7.71686706e-01  2.20445466e-01 -4.62954384e-01\n",
            " -9.23560433e-01  1.03020024e+00  7.96642071e-01 -1.87560213e-02\n",
            "  3.19288627e-01  2.36676075e-01  8.92594717e-01 -2.15979990e+00\n",
            " -9.19829471e-01  3.40132501e-01 -9.11921001e-01 -1.81105432e+00\n",
            "  3.60343841e-01  7.86440955e-01 -1.19578702e+00  7.52431112e-01\n",
            "  7.21390079e-01 -8.48493064e-01  1.20004107e-01 -5.25401599e-02\n",
            " -1.03737501e+00 -9.40629876e-01  3.94541463e-01 -1.02927545e-01\n",
            " -1.48719889e+00  2.02342601e+00 -1.41213725e-01  4.84718071e-01\n",
            " -3.80968235e-01 -9.78605731e-01  5.96173684e-01 -2.85037969e-01\n",
            " -4.87584632e-01 -1.22100484e+00 -5.16625692e-01  2.63396543e-01\n",
            " -1.25867106e+00 -5.02817926e-01  1.05255522e+00 -1.40668493e+00\n",
            "  7.38964487e-01  7.35968119e-01 -2.96240842e-01  8.84240922e-02\n",
            " -6.64135737e-01 -3.98979976e-01 -1.16872883e+00 -1.69643476e+00\n",
            "  2.69115571e-01  2.44969916e-01 -2.76042203e-01 -1.23063416e+00\n",
            " -1.01552462e-01 -5.84695160e-01  3.93904536e-02  1.23430006e+00\n",
            " -8.30435458e-01  7.14660584e-01 -3.11778088e-01 -9.24301594e-01\n",
            " -2.91400100e-02 -2.50246125e+00  9.79400703e-01  1.46713479e-01\n",
            " -3.62294719e-01  1.63421532e+00  2.38987167e-01 -1.54607691e-01\n",
            " -3.74357789e-01  5.93396545e-01  7.18065914e-01 -1.44693670e-01\n",
            " -2.33882824e-01  1.20337262e-01  1.78408160e+00 -1.35830557e-01\n",
            " -4.07651607e-01  1.61158972e-01 -1.08879231e+00 -7.77718255e-01\n",
            " -4.28110333e-01 -1.94184481e+00 -5.24192495e-01  1.11666332e-02\n",
            "  4.53677669e-01 -4.20348246e-02 -1.61743542e+00 -5.94815002e-01\n",
            " -7.75790906e-02  1.54687658e-01 -5.39540009e-01 -6.71648010e-01\n",
            " -1.24950685e+00 -5.60066811e-01 -2.00481129e+00 -1.64831843e+00\n",
            "  1.60117501e-01 -1.07730302e+00  1.10162410e-01 -1.36322949e+00\n",
            " -2.71942381e+00 -8.47148826e-01  8.17365196e-01 -1.15593830e+00\n",
            "  3.69020469e-01  3.46093534e-01  3.86168484e-01 -2.00859946e-01\n",
            "  1.17985130e+00 -9.77794909e-01  1.16268995e-01  1.04575339e+00\n",
            "  3.21757665e-01  1.18478117e-01 -3.87690834e-01 -4.73967600e-01\n",
            " -2.92503063e-01 -7.83363769e-01 -1.05414851e+00 -4.87688793e-02\n",
            "  4.92787514e-01 -1.05922477e+00  5.98460892e-01 -5.04343050e-01\n",
            " -7.31289830e-01  1.57462178e-01 -1.42323591e+00 -8.90720065e-01\n",
            "  1.97886510e+00 -1.97649939e+00  1.83009504e-01  5.04367673e-01\n",
            "  2.18757164e+00  7.08445709e-02  7.49714570e-01  3.57323031e-01\n",
            "  1.46225953e+00 -1.50698036e+00  9.10981764e-02  7.44416609e-01\n",
            " -1.01496181e+00  2.18489393e+00 -5.41090551e-01  1.21733356e+00\n",
            " -8.18722219e-01 -1.33714890e+00 -1.98085105e+00 -1.41916537e+00\n",
            " -1.44382290e+00  7.99043610e-01  8.74486169e-01 -2.12211208e+00\n",
            "  5.88235414e-01 -3.17611092e-01 -1.09127841e+00  4.31018919e-01\n",
            "  8.28544491e-01 -1.20848685e+00  1.19823804e+00  5.03815231e-01\n",
            "  1.77770190e+00 -5.54194360e-01 -8.66118018e-01 -1.53996546e-01\n",
            "  1.39423267e-01 -1.68109376e+00 -4.72472332e-01  1.02645570e+00\n",
            " -1.14903526e+00 -5.31974305e-01  8.71148054e-02  6.07249797e-01\n",
            "  1.85382356e+00 -6.21688762e-02 -1.26130008e+00 -1.69318773e+00\n",
            " -5.53192354e-02  6.66354967e-01 -7.01425790e-01 -7.04463474e-01\n",
            "  4.23804278e-01  8.12726607e-01  5.79969778e-01 -1.35508168e+00\n",
            " -1.07629236e+00  1.57072513e+00 -2.40224642e-01  1.30008354e+00\n",
            "  1.65319587e+00  9.01909044e-01  8.15523259e-01 -1.02768534e+00\n",
            " -2.28891577e-01 -2.22018017e+00 -1.25064912e+00 -9.03866096e-01\n",
            "  1.72428919e-01  6.29334391e-01  1.56255721e+00 -4.82613558e-01\n",
            " -7.96816431e-01  1.13458185e+00 -6.74421058e-01  3.86283695e-01\n",
            "  1.87099515e+00 -3.89578034e+00 -1.22769048e-01 -3.67537078e-01\n",
            "  1.81791864e+00 -2.22248634e+00  9.00247962e-01 -6.20689799e-01\n",
            "  1.66655756e+00 -1.97280843e+00 -4.17153216e-01  7.05364484e-01\n",
            "  1.13596654e+00  5.79683840e-01 -3.32524596e-01 -4.18263783e-01\n",
            "  7.92395137e-01 -2.69114048e-01  6.35629971e-01  6.55108711e-01\n",
            " -1.36218569e-01  3.26437499e-01 -1.08195289e-01 -1.67470250e-01\n",
            " -1.12797962e+00 -9.29882042e-05  2.67422203e-01 -5.54826397e-02\n",
            "  1.17215491e+00  5.64089275e-01 -1.54948280e+00 -1.45908073e+00\n",
            " -6.13572471e-01  3.55714475e-01  8.96459792e-02 -3.59226672e-01\n",
            "  2.72009728e-01  1.74810689e+00 -7.02041978e-01 -1.04926767e+00\n",
            " -3.21520862e-01 -1.46798420e+00  1.41592507e+00  1.21602491e+00\n",
            "  9.83808093e-01  1.19928314e-01  1.95141680e+00  2.84370585e-01\n",
            " -1.13149843e+00  8.39720793e-01  1.92399645e-01  1.56414268e-01\n",
            "  6.66403080e-01  2.19632950e-02  1.75996576e+00 -1.13317532e-01\n",
            "  2.67748999e-01 -3.55081293e-01 -2.71938033e+00  2.33508019e-01\n",
            " -1.15479210e+00 -1.49259016e+00  3.70284503e-01 -5.51347617e-01\n",
            "  1.44625528e-01  5.32730675e-01 -4.30811564e-02 -3.33920209e-01\n",
            " -2.99650589e-01  3.75220909e-01 -1.16467359e+00 -1.81228017e-02\n",
            "  2.43233306e-01 -3.07860014e-01 -2.83277390e-01 -7.82119583e-01\n",
            " -5.04130053e-01  3.00312476e-01  4.48785379e-01 -9.95269906e-01\n",
            "  1.07550087e+00 -2.98245739e+00 -1.34300509e+00  1.16540061e-01\n",
            "  4.86347970e-01 -1.49283160e+00 -7.68240636e-02  2.85647584e-01\n",
            " -2.37305439e-01  1.56247709e+00 -3.41094546e-01  1.51139901e+00\n",
            " -1.82689705e+00  5.86555659e-02 -1.20725508e+00  9.31058823e-01\n",
            "  2.07295956e+00 -1.97475248e+00 -8.82425059e-01  1.19071617e-02\n",
            "  5.08176058e-01 -1.02244522e+00 -1.10282579e+00 -6.72449943e-02\n",
            " -1.04633453e+00  5.36979269e-01  6.27838471e-01 -2.69248767e-01\n",
            "  1.66832316e+00 -5.18002389e-01  7.56968662e-01  1.44376050e+00\n",
            "  1.53815167e+00  1.34045804e-01 -9.96743517e-01  1.51421936e+00\n",
            "  3.45455300e-01  3.10342954e-02  4.11896319e-02 -9.80035171e-01\n",
            " -1.23848195e+00 -4.92604155e-01 -2.23957660e-01  5.87679128e-01\n",
            "  2.04254326e-01 -6.36790585e-01  5.20428615e-01  6.73427507e-01\n",
            "  2.31808324e-02  2.59371512e-01  8.52601970e-01  1.13160941e+00\n",
            " -3.37777650e+00 -7.18344573e-01 -1.86115591e+00 -2.11270779e-01\n",
            "  2.04400117e+00  4.20409148e-01  2.00988139e-02 -1.18858692e+00\n",
            " -6.44970356e-01 -2.03021441e+00  1.11601414e-01 -1.02952760e+00\n",
            "  3.05619909e-01 -2.39162294e-01  9.79782564e-01 -4.37865306e-01\n",
            "  7.38205385e-01 -2.80258442e-01  5.88841477e-02  4.52666753e-01\n",
            "  1.38290509e+00  5.94759871e-01  9.47318412e-01  4.17720101e-01\n",
            "  1.00616530e+00  4.17105713e-01 -1.60659180e+00 -4.17025163e-01\n",
            "  2.69883194e-01  8.52596737e-01 -1.22303272e-01  2.15960350e+00\n",
            " -4.33848069e-01 -4.44876017e-01  1.41116028e+00 -5.45431820e-01\n",
            "  1.59112916e+00  5.40366466e-01  9.26045588e-01  9.21574592e-01\n",
            " -1.43392616e-01 -2.23117374e-01  2.00173406e-01  3.63164848e-01\n",
            " -1.44114775e+00  1.72814852e+00  1.37387853e+00 -2.12930922e-02\n",
            " -4.63958041e-01  1.00159273e+00  9.81277548e-01  1.38877857e+00\n",
            " -1.55912967e-01  1.05487364e+00  1.24470052e+00  5.39544253e-01\n",
            "  4.14276413e-01 -6.89437917e-01  3.26237990e-01  1.53748119e-01\n",
            " -3.10660537e-01 -2.07599569e-01  4.89520880e-01  1.22318754e+00\n",
            " -6.40091063e-01  1.76236480e+00 -6.36638301e-01 -9.11744016e-01\n",
            " -1.89092050e-01  1.05703817e+00  4.59378311e-01 -2.98425889e-01\n",
            " -2.84983136e-01  1.05806105e+00  1.89570855e-01  4.62741360e-01\n",
            "  5.83033385e-01 -8.13614930e-01  2.03973311e+00 -5.77840089e-01\n",
            " -9.92014986e-01  7.81484329e-01 -8.76381551e-01 -1.37347850e+00\n",
            " -4.64531623e-01 -1.51423828e+00  1.00733347e+00  1.42167382e+00\n",
            " -1.11869036e+00  1.26477838e-01 -3.03283955e-01  1.08161581e+00\n",
            " -1.08406604e+00  2.27558190e-02  5.81103703e-01 -3.05298721e-01\n",
            "  1.40662433e+00  1.18662294e+00 -1.67920111e-01  8.38758962e-01\n",
            "  1.01593355e+00  8.84449808e-01 -1.70711672e-01  1.22547708e+00\n",
            "  1.04873070e-02  1.10288628e+00  2.83888621e-01 -6.43187894e-01\n",
            " -3.25884688e-01  6.86225043e-01 -1.14753044e-01  4.77275251e-01\n",
            " -4.56393284e-01 -1.63634285e+00  7.85266981e-01  3.77895921e-01\n",
            " -2.21844437e+00  1.24968047e+00 -4.30247195e-01  3.92938050e-01\n",
            " -1.13395829e-01  6.18907298e-01  1.40008183e+00 -6.00935393e-02\n",
            " -1.50657478e+00  1.44708654e+00  5.33902388e-02  2.24416003e-01\n",
            "  9.13941583e-01  1.32717391e-01  1.36204054e+00 -1.40711815e-01\n",
            "  8.54249894e-01  5.33310029e-01  4.71784650e-03 -1.78618223e+00\n",
            "  1.47493467e+00  5.20150872e-01 -3.32033737e-01 -1.13675223e+00\n",
            "  3.67727509e-01  2.63705860e-01 -2.49987090e-01  4.43191065e-01\n",
            "  5.42751285e-01 -1.36906290e-01  7.79869260e-01  6.41316539e-01\n",
            " -1.98870772e-01  7.16466496e-01  7.85528481e-01  3.09555082e-01\n",
            "  4.11261649e-01  9.78105270e-01 -9.20369862e-01 -1.41477733e+00\n",
            " -7.93540417e-03  5.72579415e-02  8.39313840e-03 -4.84008280e-01\n",
            " -5.68768593e-01 -4.64665218e-01  5.60726066e-01 -2.11475863e-01\n",
            " -5.93703956e-01  1.44953782e-01  1.52707384e-01 -8.14014859e-01\n",
            "  1.34885305e+00  5.04692119e-01  1.04280743e+00 -3.57487582e-01\n",
            " -1.60835786e+00 -2.49829439e-01 -9.31783338e-01 -2.42212574e-04\n",
            " -3.35230585e-02 -8.36304041e-01  2.97881105e-01 -1.05398034e+00\n",
            " -3.04473340e+00 -2.31528011e-01  9.75868511e-01  3.97598018e-01\n",
            "  1.43282380e+00 -4.83213208e-01 -1.62322603e+00  3.70074921e-01\n",
            "  1.76462359e-01  1.76952107e+00 -6.04564113e-01 -5.75667070e-01\n",
            "  8.63423515e-01 -1.44848964e-01 -3.03271523e-01 -6.18111485e-01\n",
            "  1.85903736e+00 -1.18743163e-01  8.58642476e-01 -1.56820252e+00\n",
            "  3.51391629e-01  3.53124283e-01  3.49832699e-01 -2.50363462e-01\n",
            "  1.95307058e-01 -3.32517418e-01  2.15983470e+00 -1.20701070e+00\n",
            "  1.27707059e+00 -4.87217211e-01  1.09428787e+00 -6.13579808e-01\n",
            " -1.98568648e-01 -1.43959529e+00  7.17103983e-01  3.11465996e-01\n",
            " -2.84575989e-01 -1.51632947e+00  1.29874053e+00  1.11783242e-01\n",
            "  1.45276025e-01 -3.00497219e-01  1.67155000e-01  1.81795721e-01\n",
            " -5.19896952e-01  2.05787635e-01  1.15698373e-01 -1.00906090e+00\n",
            "  1.83378688e+00  1.04399374e+00 -1.75940300e+00 -9.79018832e-01\n",
            "  1.76943000e+00 -2.65670621e-01 -9.30057142e-01 -4.92426319e-01\n",
            " -1.09082172e-01 -5.45237396e-01 -1.61679627e-01 -1.23400270e+00\n",
            "  4.06762063e-02 -7.20640207e-01  7.50820961e-02 -7.18238609e-01\n",
            "  1.02699748e+00  3.37166325e-01  8.88200503e-01 -1.59957242e-01\n",
            "  1.00233452e+00 -1.68078227e+00 -4.33535880e-01  6.03398046e-01\n",
            "  6.52572486e-01  1.31690064e+00 -1.28282527e-03 -1.07733132e+00\n",
            "  2.45799594e-01  9.86248239e-01 -9.06918930e-01 -2.92769067e-01\n",
            "  9.55393298e-01  1.13812057e+00  1.13998407e+00  8.43021648e-01\n",
            "  1.35356287e+00  6.32855683e-01 -1.91123211e+00  2.93090659e-01\n",
            "  8.57783186e-01  1.90070589e-01  7.54986883e-01 -2.31979344e-01\n",
            "  6.58851747e-01 -2.49777244e+00  8.16138361e-02 -2.28657638e+00\n",
            "  3.68421499e-01  4.56189958e-01 -7.37806194e-01  2.88424093e-01\n",
            "  6.76802656e-01  7.03005384e-01 -1.07552521e+00 -1.12512695e-01\n",
            " -3.60238134e-01 -2.49661998e+00  2.07673565e+00  7.73309886e-02\n",
            "  7.50967491e-01  5.23715513e-01  5.09120810e-02 -6.22285277e-01\n",
            "  4.08127614e-02  7.40103537e-01  1.31987110e+00 -1.11122567e-01\n",
            "  2.15288889e-01  8.49221624e-01  6.52491045e-01  1.62421223e-01\n",
            "  5.21915907e-01  4.96772925e-01 -8.65441965e-02  7.56984586e-01\n",
            "  3.32310165e-01  5.75503197e-01 -1.72055930e+00 -1.12886630e+00\n",
            "  7.65089814e-01 -2.57191969e-01 -5.21724256e-01  1.81948866e+00\n",
            "  3.74190258e-01 -1.06322767e-01 -4.15501646e-01 -2.39450251e+00\n",
            " -7.43335204e-01  1.54599085e+00  1.02398068e+00  2.90810677e-02\n",
            "  5.02645255e-01 -1.35165209e+00  9.67694783e-01 -1.66983878e+00\n",
            " -9.00930746e-01 -3.61097089e-02 -7.06465362e-01 -1.34048608e+00\n",
            " -8.63865128e-01  2.02747199e+00 -2.04182752e+00 -8.23547220e-01\n",
            "  4.79926281e-01 -6.78432566e-01  1.22550431e+00  7.99344139e-01\n",
            "  7.97198595e-01 -6.65704955e-01  4.69266411e-01  4.35040255e-01\n",
            "  9.96532330e-01  4.48252587e-01 -8.16072382e-01  4.94813369e-01\n",
            " -7.09076934e-01  1.69068021e+00  3.29269273e-01 -1.31461460e-01\n",
            " -3.56616693e-01 -2.06601851e+00  2.81085000e-01  1.74008250e+00\n",
            " -2.17919841e-01  1.30239203e+00 -1.87318651e-01 -5.47014090e-01\n",
            " -7.65059241e-01 -8.21812258e-01 -2.03418167e+00 -5.10234571e-01\n",
            " -2.50792122e+00 -5.96366258e-01 -6.68143535e-02 -6.01600955e-01\n",
            "  1.59284700e+00 -8.09860339e-01  2.03570538e+00  7.73062132e-01\n",
            "  3.45046719e-01  4.67408614e-01  1.62624703e-01 -4.25591099e-01\n",
            " -8.38063371e-01 -1.80202748e+00  1.70725635e-01  1.44297112e+00\n",
            "  4.92874061e-01  7.56247131e-01 -1.05885817e+00 -2.17468310e+00\n",
            " -2.08061124e-01  5.05913460e-01 -1.66575256e+00  4.25608980e-01\n",
            "  1.53962315e+00 -7.83381294e-01 -1.22324539e+00 -1.79585768e+00\n",
            "  4.70347472e-01 -7.10702837e-04  6.08919015e-01 -1.60493339e-01\n",
            "  1.92887085e-01  1.42415014e+00 -2.20147922e-01 -2.36733811e+00\n",
            "  3.09415023e-01 -1.10882298e+00  2.48036297e-01  8.18058801e-01\n",
            " -1.15349299e+00  1.74943472e-01  1.70676576e+00 -1.20658614e-01\n",
            "  3.28714319e-01 -6.65459877e-01 -7.09777456e-01  7.06601890e-01\n",
            "  6.11881443e-01  3.59751816e-01  1.87850407e+00 -1.30266258e-01\n",
            " -1.32192697e+00 -6.85576766e-01 -8.85667143e-01  5.33884737e-01\n",
            "  8.82192870e-01 -1.05952887e+00 -2.19468506e-01 -7.09670889e-01\n",
            "  7.56297386e-01 -1.78105035e+00  9.62214107e-01  1.38692654e+00\n",
            " -1.36257932e-01 -1.84465935e-01 -5.16336508e-01  1.58185581e+00\n",
            "  4.24941848e-01 -2.90190329e-01 -5.67280747e-01  1.51755958e+00\n",
            " -5.85880145e-02 -1.30160904e+00 -1.45318699e+00  2.13858954e+00\n",
            " -1.18110507e+00  2.27501160e-01 -4.10331587e-01 -1.40399586e+00\n",
            " -1.61314484e+00 -1.36817223e+00 -6.11128596e-01  1.98804116e+00\n",
            " -8.35161384e-02 -2.34780251e-01 -2.05700292e+00  1.52787177e-02\n",
            " -1.71348848e+00 -6.74809876e-01  1.13064394e-01 -5.93929830e-01\n",
            "  1.53786093e+00 -1.03912208e+00  8.83270656e-02  9.83495600e-01\n",
            "  1.75940763e+00  1.75758008e-01  1.01476834e+00  5.50865333e-01\n",
            " -1.03984207e+00 -1.99643150e+00 -5.44810603e-01  6.90147328e-01\n",
            " -1.91021380e+00 -1.17284346e+00 -3.92929946e-01  1.27180481e+00\n",
            " -9.70925462e-01 -4.49958807e-01  1.38792660e+00 -8.26011936e-01\n",
            " -4.49899266e-01 -1.13652055e+00 -1.33257049e+00 -5.79364770e-01\n",
            " -1.11037579e+00  6.64551878e-01  2.09465480e-01 -9.74311255e-01\n",
            "  6.37216354e-01  4.67838817e-01 -4.75306260e-01  2.30236307e+00\n",
            " -4.81126014e-01 -1.41431531e-01 -8.05619420e-02  9.67450870e-01\n",
            " -3.46682981e-01 -4.34188180e-02  1.17865527e+00  1.83572292e+00\n",
            "  7.44544446e-01  4.33570769e-01 -1.74092910e-01  3.74833715e-01\n",
            "  1.23795673e-01 -1.51826122e+00  7.51272376e-01  1.74269901e+00\n",
            "  1.01882961e+00 -1.78118351e+00  8.12249935e-01 -1.91195148e+00\n",
            " -1.00298497e+00 -4.60484135e-01 -6.30678720e-01 -3.91244278e-01\n",
            " -3.39718842e-02  1.43892685e+00  7.18708375e-01 -3.35105834e+00\n",
            "  9.53903347e-01  8.52933004e-02  1.07397925e+00 -1.40808332e+00\n",
            "  1.04702948e+00 -3.86836891e-01  4.89524160e-01 -7.73165990e-01\n",
            " -1.24001506e+00 -8.81351710e-01 -5.38057123e-01 -1.05157991e+00\n",
            " -4.40918447e-01 -1.90673483e-02  6.67686256e-01  8.86514505e-01\n",
            " -3.18100741e-01 -2.98424533e-01  1.13420155e-03 -1.77070963e-01\n",
            " -7.10244044e-01 -1.01773290e+00 -1.18885512e+00 -2.73804072e+00\n",
            " -7.66784121e-01 -1.70008055e-01  5.68911431e-01  4.52510849e-01\n",
            " -5.23221298e-02 -1.78147234e-02 -5.19177980e-01  2.44825363e+00\n",
            "  9.93729312e-01 -4.02914900e-01  1.49010881e+00  3.34141184e-02\n",
            "  1.68667980e+00  1.00496648e+00 -8.65366678e-01  1.07275318e+00\n",
            " -6.67737428e-01  1.06496118e+00  1.12805520e+00  1.02134733e+00\n",
            " -9.55208263e-01 -1.60150337e-01  9.94875012e-02 -3.14824976e-01\n",
            " -1.13310368e+00 -3.39244073e-01  4.56651052e-01  2.34676336e-01\n",
            " -1.63677470e-01  2.57839713e-01  2.68703297e-01 -7.74928013e-01\n",
            "  7.03893521e-02  8.21916452e-01 -6.08924661e-01 -1.02007457e+00]\n",
            "\n",
            "Statistics:\n",
            "Mean: -0.04542185186930654\n",
            "Variance: 0.9823632664670897\n",
            "Standard Deviation: 0.99114240473662\n"
          ]
        }
      ],
      "source": [
        "#6) Write a Python script to generate random numbers from a Gaussian (normal) distribution and compute\n",
        "#the mean, variance, and standard deviation of the samples\n",
        "\n",
        "import numpy as np\n",
        "\n",
        "def generate_normal_distribution_samples(mean=0, std_dev=1, size=1000):\n",
        "\n",
        "    samples = np.random.normal(mean, std_dev, size)\n",
        "    sample_mean = np.mean(samples)\n",
        "    sample_variance = np.var(samples)\n",
        "    sample_std_dev = np.std(samples)\n",
        "\n",
        "    return samples, sample_mean, sample_variance, sample_std_dev\n",
        "\n",
        "\n",
        "mean = 0\n",
        "std_dev = 1\n",
        "size = 1000\n",
        "\n",
        "samples, sample_mean, sample_variance, sample_std_dev = generate_normal_distribution_samples(mean, std_dev, size)\n",
        "\n",
        "print(\"Generated Samples:\")\n",
        "print(samples)\n",
        "print(\"\\nStatistics:\")\n",
        "print(\"Mean:\", sample_mean)\n",
        "print(\"Variance:\", sample_variance)\n",
        "print(\"Standard Deviation:\", sample_std_dev)\n"
      ]
    },
    {
      "cell_type": "code",
      "execution_count": null,
      "id": "318bc088-6070-4c39-b039-a300f5b3577f",
      "metadata": {
        "id": "318bc088-6070-4c39-b039-a300f5b3577f",
        "outputId": "f4c43fd6-7ac9-4591-d0be-c4bc98c0e4bc"
      },
      "outputs": [
        {
          "name": "stdout",
          "output_type": "stream",
          "text": [
            "Skewness of 'total_bill': 1.1262346334818638\n",
            "Skewness of 'tip': 1.4564266884221506\n"
          ]
        }
      ],
      "source": [
        "#7) Use seaborn library to load tips dataset. Find the following from the dataset for the columns total_bill and tip:\n",
        "\n",
        "# (i) Write a Python function that calculates their skewness.\n",
        "\n",
        "import seaborn as sns\n",
        "import numpy as np\n",
        "from scipy.stats import skew\n",
        "\n",
        "tips = sns.load_dataset('tips')\n",
        "\n",
        "\n",
        "def calculate_skewness(column):\n",
        "\n",
        "    return skew(column)\n",
        "\n",
        "\n",
        "total_bill_skewness = calculate_skewness(tips['total_bill'])\n",
        "tip_skewness = calculate_skewness(tips['tip'])\n",
        "\n",
        "print(\"Skewness of 'total_bill':\", total_bill_skewness)\n",
        "print(\"Skewness of 'tip':\", tip_skewness)\n"
      ]
    },
    {
      "cell_type": "code",
      "execution_count": null,
      "id": "feaa3b1c-8aa6-4a95-8a9b-9c951e68f05f",
      "metadata": {
        "id": "feaa3b1c-8aa6-4a95-8a9b-9c951e68f05f"
      },
      "outputs": [],
      "source": [
        "#(ii) Create a program that determines whether the columns exhibit positive skewness, negative skewness, or is approximately symmetric\n",
        "import seaborn as sns\n",
        "from scipy.stats import skew\n",
        "\n",
        "\n",
        "tips = sns.load_dataset('tips')\n",
        "\n",
        "\n",
        "def calculate_skewness(column):\n",
        "\n",
        "    return skew(column)\n",
        "\n",
        "def skewness_type(skewness_value, threshold=0.5):\n",
        "\n",
        "\n",
        "    if skewness_value > threshold:\n",
        "        return 'Positive skewness'\n",
        "    elif skewness_value < -threshold:\n",
        "        return 'Negative skewness'\n",
        "    else:\n",
        "        return 'Approximately symmetric'\n",
        "\n",
        "\n",
        "total_bill_skewness = calculate_skewness(tips['total_bill'])\n",
        "tip_skewness = calculate_skewness(tips['tip'])\n",
        "\n",
        "\n",
        "total_bill_skewness_type = skewness_type(total_bill_skewness)\n",
        "tip_skewness_type = skewness_type(tip_skewness)\n",
        "\n",
        "print(f\"Skewness of 'total_bill': {total_bill_skewness} ({total_bill_skewness_type})\")\n",
        "print(f\"Skewness of 'tip': {tip_skewness} ({tip_skewness_type})\")\n"
      ]
    },
    {
      "cell_type": "code",
      "execution_count": null,
      "id": "2cd13590-12a7-4eff-888b-c2f914c86d78",
      "metadata": {
        "id": "2cd13590-12a7-4eff-888b-c2f914c86d78",
        "outputId": "0c2e6a7d-11e1-4da1-b3eb-ac90dfa161f5"
      },
      "outputs": [
        {
          "name": "stdout",
          "output_type": "stream",
          "text": [
            "Covariance between 'total_bill' and 'tip': 8.28938891762967\n"
          ]
        }
      ],
      "source": [
        "# (iii) Write a function that calculates the covariance between two columns\n",
        "def calculate_covariance(column1, column2):\n",
        "\n",
        "    covariance_matrix = np.cov(column1, column2, ddof=0)\n",
        "    return covariance_matrix[0, 1]\n",
        "\n",
        "\n",
        "covariance_total_bill_tip = calculate_covariance(tips['total_bill'], tips['tip'])\n",
        "\n",
        "print(f\"Covariance between 'total_bill' and 'tip': {covariance_total_bill_tip}\")"
      ]
    },
    {
      "cell_type": "code",
      "execution_count": null,
      "id": "1370f136-b4b0-482b-badf-359132bddf79",
      "metadata": {
        "id": "1370f136-b4b0-482b-badf-359132bddf79",
        "outputId": "93d9de25-62f4-40f3-e223-f59c46436a23"
      },
      "outputs": [
        {
          "name": "stdout",
          "output_type": "stream",
          "text": [
            "Pearson correlation coefficient between 'total_bill' and 'tip': 0.6757341092113647\n",
            "P-value: 6.6924706468630016e-34\n"
          ]
        }
      ],
      "source": [
        "#(iv)   Implement a Python program that calculates the Pearson correlation coefficient between two columns\n",
        "\n",
        "from scipy.stats import pearsonr\n",
        "\n",
        "\n",
        "\n",
        "#\n",
        "def calculate_pearson_correlation(column1, column2):\n",
        "\n",
        "    correlation_coefficient, p_value = pearsonr(column1, column2)\n",
        "    return correlation_coefficient, p_value\n",
        "\n",
        "correlation_total_bill_tip, p_value_total_bill_tip = calculate_pearson_correlation(tips['total_bill'], tips['tip'])\n",
        "\n",
        "print(f\"Pearson correlation coefficient between 'total_bill' and 'tip': {correlation_total_bill_tip}\")\n",
        "print(f\"P-value: {p_value_total_bill_tip}\")\n"
      ]
    },
    {
      "cell_type": "code",
      "execution_count": null,
      "id": "35593758-d929-4dd0-8037-663fe7e41b7c",
      "metadata": {
        "id": "35593758-d929-4dd0-8037-663fe7e41b7c",
        "outputId": "a84df22d-b461-4467-9198-8c7564cc2963"
      },
      "outputs": [
        {
          "data": {
            "image/png": "[encoded data removed]",
            "text/plain": [
              "<Figure size 1000x600 with 1 Axes>"
            ]
          },
          "metadata": {},
          "output_type": "display_data"
        }
      ],
      "source": [
        "#(v) Write a script to visualize the correlation between two specific columns on a Pandas DataFrame using scatter plots.\n",
        "import matplotlib.pyplot as plt\n",
        "def visualize_correlation(df, column1, column2):\n",
        "\n",
        "    plt.figure(figsize=(10, 6))\n",
        "    sns.scatterplot(data=df, x=column1, y=column2)\n",
        "    plt.title(f'Scatter Plot of {column1} vs {column2}')\n",
        "    plt.xlabel(column1)\n",
        "    plt.ylabel(column2)\n",
        "    plt.show()\n",
        "\n",
        "visualize_correlation(tips, 'total_bill', 'tip')"
      ]
    },
    {
      "cell_type": "code",
      "execution_count": null,
      "id": "69cf2f56-1916-4bca-a5b5-31f7107cc1dc",
      "metadata": {
        "id": "69cf2f56-1916-4bca-a5b5-31f7107cc1dc",
        "outputId": "fb86d679-077b-401c-f9be-ef6c7df13396"
      },
      "outputs": [
        {
          "data": {
            "image/png": "[encoded data removed]",
            "text/plain": [
              "<Figure size 1000x600 with 1 Axes>"
            ]
          },
          "metadata": {},
          "output_type": "display_data"
        }
      ],
      "source": [
        "#8) Write a Python function to calculate the probability density function (PDF) of a continuous random variable for a given normal distribution.\n",
        "import numpy as np\n",
        "from scipy.stats import norm\n",
        "import matplotlib.pyplot as plt\n",
        "\n",
        "def calculate_normal_pdf(x, mean=0, std_dev=1):\n",
        "\n",
        "    pdf = norm.pdf(x, loc=mean, scale=std_dev)\n",
        "    return pdf\n",
        "\n",
        "\n",
        "mean = 0\n",
        "std_dev = 1\n",
        "x_values = np.linspace(-5, 5, 1000)\n",
        "pdf_values = calculate_normal_pdf(x_values, mean, std_dev)\n",
        "\n",
        "\n",
        "plt.figure(figsize=(10, 6))\n",
        "plt.plot(x_values, pdf_values, label=f'Normal Distribution\\n(mean={mean}, std_dev={std_dev})')\n",
        "plt.title('Probability Density Function of a Normal Distribution')\n",
        "plt.xlabel('x')\n",
        "plt.ylabel('PDF')\n",
        "plt.legend()\n",
        "plt.grid(True)\n",
        "plt.show()"
      ]
    },
    {
      "cell_type": "code",
      "execution_count": null,
      "id": "2089c997-87e2-48fa-8a27-1cc64a9b5f1c",
      "metadata": {
        "id": "2089c997-87e2-48fa-8a27-1cc64a9b5f1c",
        "outputId": "315e2965-54ba-4a9b-958e-ac4ba6473e0e"
      },
      "outputs": [
        {
          "data": {
            "image/png": "[encoded data removed]",
            "text/plain": [
              "<Figure size 1000x600 with 1 Axes>"
            ]
          },
          "metadata": {},
          "output_type": "display_data"
        }
      ],
      "source": [
        "#9)Create a program to calculate the cumulative distribution function (CDF) of exponential distribution.\n",
        "import numpy as np\n",
        "from scipy.stats import expon\n",
        "import matplotlib.pyplot as plt\n",
        "\n",
        "def calculate_exponential_cdf(x, rate=1):\n",
        "\n",
        "    cdf = expon.cdf(x, scale=1/rate)\n",
        "    return cdf\n",
        "\n",
        "\n",
        "rate = 1\n",
        "x_values = np.linspace(0, 10, 1000)\n",
        "cdf_values = calculate_exponential_cdf(x_values, rate)\n",
        "\n",
        "plt.figure(figsize=(10, 6))\n",
        "plt.plot(x_values, cdf_values, label=f'Exponential Distribution\\n(rate={rate})')\n",
        "plt.title('Cumulative Distribution Function of an Exponential Distribution')\n",
        "plt.xlabel('x')\n",
        "plt.ylabel('CDF')\n",
        "plt.legend()\n",
        "plt.grid(True)\n",
        "plt.show()\n"
      ]
    },
    {
      "cell_type": "code",
      "execution_count": null,
      "id": "fa00263e-2509-4d6d-add7-bf611fd37512",
      "metadata": {
        "id": "fa00263e-2509-4d6d-add7-bf611fd37512",
        "outputId": "80a565fd-5d94-453d-de15-4d3785913fd0"
      },
      "outputs": [
        {
          "name": "stderr",
          "output_type": "stream",
          "text": [
            "/tmp/ipykernel_119/502389790.py:18: MatplotlibDeprecationWarning: The 'use_line_collection' parameter of stem() was deprecated in Matplotlib 3.6 and will be removed two minor releases later. If any parameter follows 'use_line_collection', they should be passed as keyword, not positionally.\n",
            "  plt.stem(k_values, pmf_values, use_line_collection=True)\n"
          ]
        },
        {
          "data": {
            "image/png": "[encoded data removed]",
            "text/plain": [
              "<Figure size 1000x600 with 1 Axes>"
            ]
          },
          "metadata": {},
          "output_type": "display_data"
        }
      ],
      "source": [
        "#10) Write a Python function to calculate the probability mass function (PMF) of Poisson distribution\n",
        "import numpy as np\n",
        "from scipy.stats import poisson\n",
        "import matplotlib.pyplot as plt\n",
        "\n",
        "def calculate_poisson_pmf(k, lambda_):\n",
        "\n",
        "    pmf = poisson.pmf(k, mu=lambda_)\n",
        "    return pmf\n",
        "\n",
        "\n",
        "lambda_ = 3\n",
        "k_values = np.arange(0, 15)\n",
        "pmf_values = calculate_poisson_pmf(k_values, lambda_)\n",
        "\n",
        "plt.figure(figsize=(10, 6))\n",
        "plt.stem(k_values, pmf_values, use_line_collection=True)\n",
        "plt.title('Probability Mass Function of a Poisson Distribution')\n",
        "plt.xlabel('k')\n",
        "plt.ylabel('PMF')\n",
        "plt.grid(True)\n",
        "plt.show()\n"
      ]
    },
    {
      "cell_type": "code",
      "execution_count": null,
      "id": "24eb2ac6-ca75-41e6-b07c-ea22ed3393c0",
      "metadata": {
        "id": "24eb2ac6-ca75-41e6-b07c-ea22ed3393c0"
      },
      "outputs": [],
      "source": [
        "#11)A company wants to test if a new website layout leads to a higher conversion rate (percentage of visitorswho make a purchase). They collect data from the old and new layouts to compare.\n",
        "\n",
        "\n",
        "# To generate the data use the following command:\n",
        "\n",
        "# python\n",
        "\n",
        "# import numpy as np\n",
        "\n",
        "# # 50 purchases out of 1000 visitors\n",
        "\n",
        "# old_layout = np.array([1] * 50 + [0] * 950)\n",
        "\n",
        "# # 70 purchases out of 1000 visitors\n",
        "\n",
        "# new_layout = np.array([1] * 70 + [0] * 930)\n",
        "\n",
        "\n",
        "# Apply z-test to find which layout is successful.\n",
        "\n"
      ]
    },
    {
      "cell_type": "code",
      "execution_count": null,
      "id": "f96008f2-ee5d-4c49-aea1-6073124b8f3b",
      "metadata": {
        "id": "f96008f2-ee5d-4c49-aea1-6073124b8f3b",
        "outputId": "676c6316-e59c-40cf-c426-808453f237b6"
      },
      "outputs": [
        {
          "name": "stdout",
          "output_type": "stream",
          "text": [
            "Z-statistic: -1.8831\n",
            "P-value: 0.0597\n",
            "Fail to reject the null hypothesis: There is no significant difference in conversion rates between the layouts.\n"
          ]
        }
      ],
      "source": [
        "import numpy as np\n",
        "from statsmodels.stats.proportion import proportions_ztest\n",
        "\n",
        "\n",
        "old_layout = np.array([1] * 50 + [0] * 950)  # 50 purchases out of 1000 visitors\n",
        "new_layout = np.array([1] * 70 + [0] * 930)  # 70 purchases out of 1000 visitors\n",
        "\n",
        "\n",
        "def perform_ztest(old_layout, new_layout):\n",
        "\n",
        "    count = np.array([old_layout.sum(), new_layout.sum()])\n",
        "\n",
        "    nobs = np.array([len(old_layout), len(new_layout)])\n",
        "\n",
        "\n",
        "    z_stat, p_value = proportions_ztest(count, nobs)\n",
        "\n",
        "    return z_stat, p_value\n",
        "\n",
        "\n",
        "z_stat, p_value = perform_ztest(old_layout, new_layout)\n",
        "\n",
        "\n",
        "print(f\"Z-statistic: {z_stat:.4f}\")\n",
        "print(f\"P-value: {p_value:.4f}\")\n",
        "\n",
        "\n",
        "alpha = 0.05\n",
        "if p_value < alpha:\n",
        "    print(\"Reject the null hypothesis: The new layout leads to a significantly higher conversion rate.\")\n",
        "else:\n",
        "    print(\"Fail to reject the null hypothesis: There is no significant difference in conversion rates between the layouts.\")\n"
      ]
    },
    {
      "cell_type": "code",
      "execution_count": null,
      "id": "c1975b2f-c4ce-4d5b-9efe-aed6c840eba7",
      "metadata": {
        "id": "c1975b2f-c4ce-4d5b-9efe-aed6c840eba7"
      },
      "outputs": [],
      "source": [
        "#12) A tutoring service claims that its program improves students' exam scores. A sample oN students who\n",
        "# participated in the program was taken, and their scores beNore and aNter the program were recorded.\n",
        "\n",
        "\n",
        "# Use the below code to ge<erate samples of respective arrays of marks:\n",
        "\n",
        "# ```python\n",
        "\n",
        "# before_program = <p.array([75, 80, 85, 70, 90, 78, 92, 88, 82, 87])\n",
        "\n",
        "# after_program = <p.array([80, 85, 90, 80, 92, 80, 95, 90, 85, 88])\n",
        "\n",
        "# ```\n",
        "\n",
        "# Use z-test to fi<d if the claims made by tutor are true or false."
      ]
    },
    {
      "cell_type": "code",
      "execution_count": null,
      "id": "44c08dd0-e6cf-46e8-a1ca-853b0a32d487",
      "metadata": {
        "id": "44c08dd0-e6cf-46e8-a1ca-853b0a32d487",
        "outputId": "c48b9bcc-9d64-43ec-d66b-9855d72843ec"
      },
      "outputs": [
        {
          "name": "stdout",
          "output_type": "stream",
          "text": [
            "Z-statistic: 4.5932\n",
            "P-value: 0.0000\n",
            "Reject the null hypothesis: The tutoring program significantly improves students' scores.\n"
          ]
        }
      ],
      "source": [
        "import numpy as np\n",
        "from scipy.stats import norm\n",
        "\n",
        "\n",
        "before_program = np.array([75, 80, 85, 70, 90, 78, 92, 88, 82, 87])\n",
        "after_program = np.array([80, 85, 90, 80, 92, 80, 95, 90, 85, 88])\n",
        "\n",
        "\n",
        "def paired_ztest(before, after):\n",
        "\n",
        "    differences = after - before\n",
        "\n",
        "\n",
        "    mean_diff = np.mean(differences)\n",
        "    std_diff = np.std(differences, ddof=1)\n",
        "\n",
        "\n",
        "    standard_error = std_diff / np.sqrt(len(differences))\n",
        "\n",
        "\n",
        "    z_stat = mean_diff / standard_error\n",
        "\n",
        "\n",
        "    p_value = 2 * (1 - norm.cdf(abs(z_stat)))\n",
        "\n",
        "    return z_stat, p_value\n",
        "\n",
        "\n",
        "z_stat, p_value = paired_ztest(before_program, after_program)\n",
        "\n",
        "\n",
        "print(f\"Z-statistic: {z_stat:.4f}\")\n",
        "print(f\"P-value: {p_value:.4f}\")\n",
        "\n",
        "\n",
        "alpha = 0.05\n",
        "if p_value < alpha:\n",
        "    print(\"Reject the null hypothesis: The tutoring program significantly improves students' scores.\")\n",
        "else:\n",
        "    print(\"Fail to reject the null hypothesis: There is no significant improvement in students' scores due to the tutoring program.\")\n"
      ]
    },
    {
      "cell_type": "code",
      "execution_count": null,
      "id": "4eb7abed-3693-4f87-8334-165341e57e35",
      "metadata": {
        "id": "4eb7abed-3693-4f87-8334-165341e57e35"
      },
      "outputs": [],
      "source": [
        "#13)A pharmaceutical company wants to determine if a new drug is effective in reducing blood pressure. They\n",
        "# conduct a study and record blood pressure measurements before and after administering the drug.\n",
        "\n",
        "\n",
        "# Use the below code to generate samples of respective arrays of blood pressure:\n",
        "\n",
        "\n",
        "# ```python\n",
        "\n",
        "# before_drug = np.array([145, 150, 140, 135, 155, 160, 152, 148, 130, 138])\n",
        "\n",
        "# after_drug = np.array([130, 140, 132, 128, 145, 148, 138, 136, 125, 130])\n",
        "\n",
        "#   ```\n",
        "\n",
        "\n",
        "# Implement z-test to find if the drug really works or not."
      ]
    },
    {
      "cell_type": "code",
      "execution_count": null,
      "id": "15e33b11-7934-45c1-b96f-1528fcdc4c4f",
      "metadata": {
        "id": "15e33b11-7934-45c1-b96f-1528fcdc4c4f",
        "outputId": "4c32d0c6-1585-41a7-b0e3-203d95005207"
      },
      "outputs": [
        {
          "name": "stdout",
          "output_type": "stream",
          "text": [
            "Z-statistic: 10.0499\n",
            "P-value: 0.0000\n",
            "Reject the null hypothesis: The drug significantly reduces blood pressure.\n"
          ]
        }
      ],
      "source": [
        "import numpy as np\n",
        "from scipy.stats import norm\n",
        "\n",
        "\n",
        "before_drug = np.array([145, 150, 140, 135, 155, 160, 152, 148, 130, 138])\n",
        "after_drug = np.array([130, 140, 132, 128, 145, 148, 138, 136, 125, 130])\n",
        "\n",
        "\n",
        "def paired_ztest(before, after):\n",
        "\n",
        "    differences = before - after\n",
        "\n",
        "\n",
        "    mean_diff = np.mean(differences)\n",
        "    std_diff = np.std(differences, ddof=1)\n",
        "\n",
        "\n",
        "    standard_error = std_diff / np.sqrt(len(differences))\n",
        "\n",
        "\n",
        "    z_stat = mean_diff / standard_error\n",
        "\n",
        "\n",
        "    p_value = 2 * (1 - norm.cdf(abs(z_stat)))  # Two-tailed test\n",
        "\n",
        "    return z_stat, p_value\n",
        "\n",
        "\n",
        "z_stat, p_value = paired_ztest(before_drug, after_drug)\n",
        "\n",
        "print(f\"Z-statistic: {z_stat:.4f}\")\n",
        "print(f\"P-value: {p_value:.4f}\")\n",
        "\n",
        "\n",
        "alpha = 0.05\n",
        "if p_value < alpha:\n",
        "    print(\"Reject the null hypothesis: The drug significantly reduces blood pressure.\")\n",
        "else:\n",
        "    print(\"Fail to reject the null hypothesis: There is no significant reduction in blood pressure due to the drug.\")\n"
      ]
    },
    {
      "cell_type": "code",
      "execution_count": null,
      "id": "23155a42-3f50-41cb-b4ad-a2e0ff6a686e",
      "metadata": {
        "id": "23155a42-3f50-41cb-b4ad-a2e0ff6a686e"
      },
      "outputs": [],
      "source": [
        "#14)A customer service department claims that their average response ti:e is less than 5 :inutesV A sample\n",
        "# of recent customer interactions was taken, and the response times were recorded.\n",
        "\n",
        "\n",
        "# Implement the below code to generate the array of response time:\n",
        "\n",
        "# ```python\n",
        "\n",
        "# response_times = np.array([4.3, 3.8, 5.1, 4.9, 4.7, 4.2, 5.2, 4.5, 4.6, 4.4])\n",
        "\n",
        "# ```\n",
        "\n",
        "# Implement z-test to find the claims made by customer service department are true or false.\n",
        "\n",
        "\n"
      ]
    },
    {
      "cell_type": "code",
      "execution_count": null,
      "id": "6ccf1982-5d6c-483e-82da-3f8763d3ddd9",
      "metadata": {
        "id": "6ccf1982-5d6c-483e-82da-3f8763d3ddd9",
        "outputId": "3f6ace7a-6e58-4465-d8e0-a6dac3037d9e"
      },
      "outputs": [
        {
          "name": "stdout",
          "output_type": "stream",
          "text": [
            "Z-statistic: -3.1845\n",
            "P-value: 0.0007\n",
            "Reject the null hypothesis: The average response time is significantly less than 5 minutes.\n"
          ]
        }
      ],
      "source": [
        "import numpy as np\n",
        "from scipy.stats import norm\n",
        "\n",
        "\n",
        "response_times = np.array([4.3, 3.8, 5.1, 4.9, 4.7, 4.2, 5.2, 4.5, 4.6, 4.4])\n",
        "\n",
        "\n",
        "def one_sample_ztest(data, mu=5):\n",
        "\n",
        "    sample_mean = np.mean(data)\n",
        "    sample_std = np.std(data, ddof=1)\n",
        "\n",
        "\n",
        "    standard_error = sample_std / np.sqrt(len(data))\n",
        "\n",
        "\n",
        "    z_stat = (sample_mean - mu) / standard_error\n",
        "\n",
        "\n",
        "    p_value = norm.cdf(z_stat)\n",
        "\n",
        "    return z_stat, p_value\n",
        "\n",
        "\n",
        "z_stat, p_value = one_sample_ztest(response_times, mu=5)\n",
        "\n",
        "\n",
        "print(f\"Z-statistic: {z_stat:.4f}\")\n",
        "print(f\"P-value: {p_value:.4f}\")\n",
        "\n",
        "\n",
        "alpha = 0.05\n",
        "if p_value < alpha:\n",
        "    print(\"Reject the null hypothesis: The average response time is significantly less than 5 minutes.\")\n",
        "else:\n",
        "    print(\"Fail to reject the null hypothesis: There is no significant evidence that the average response time is less than 5 minutes.\")\n"
      ]
    },
    {
      "cell_type": "code",
      "execution_count": null,
      "id": "c0e4fcad-855c-4e4b-8384-a4d3a8ceb4b7",
      "metadata": {
        "id": "c0e4fcad-855c-4e4b-8384-a4d3a8ceb4b7"
      },
      "outputs": [],
      "source": [
        "#15)A company is testing two different website layouts to see which one leads to higher click-through rates.\n",
        "# Write a Python function to perform an A/B test analysis, including calculating the t-statistic, degrees of\n",
        "# freedom, and p-value.\n",
        "\n",
        "\n",
        "# Use the following data:\n",
        "\n",
        "# ```python\n",
        "\n",
        "# layout_a_clicks = [28, 32, 33, 29, 31, 34, 30, 35, 36, 37]\n",
        "\n",
        "# layout_b_clicks = [40, 41, 38, 42, 39, 44, 43, 41, 45, 47]"
      ]
    },
    {
      "cell_type": "code",
      "execution_count": null,
      "id": "173ee228-a8bf-4635-ae8a-9780463127dc",
      "metadata": {
        "id": "173ee228-a8bf-4635-ae8a-9780463127dc",
        "outputId": "a3bec138-1d68-4557-9871-66c9928a9b65"
      },
      "outputs": [
        {
          "name": "stdout",
          "output_type": "stream",
          "text": [
            "T-statistic: -7.2981\n",
            "Degrees of freedom: 18\n",
            "P-value: 0.0000\n",
            "Reject the null hypothesis: There is a significant difference between the click-through rates of the two layouts.\n"
          ]
        }
      ],
      "source": [
        "import numpy as np\n",
        "from scipy.stats import t\n",
        "\n",
        "\n",
        "layout_a_clicks = [28, 32, 33, 29, 31, 34, 30, 35, 36, 37]\n",
        "layout_b_clicks = [40, 41, 38, 42, 39, 44, 43, 41, 45, 47]\n",
        "\n",
        "\n",
        "def ab_test(layout_a, layout_b):\n",
        "\n",
        "    layout_a = np.array(layout_a)\n",
        "    layout_b = np.array(layout_b)\n",
        "\n",
        "    mean_a = np.mean(layout_a)\n",
        "    mean_b = np.mean(layout_b)\n",
        "\n",
        "\n",
        "    std_a = np.std(layout_a, ddof=1)\n",
        "    std_b = np.std(layout_b, ddof=1)\n",
        "\n",
        "\n",
        "    n_a = len(layout_a)\n",
        "    n_b = len(layout_b)\n",
        "\n",
        "\n",
        "    se_diff = np.sqrt((std_a**2 / n_a) + (std_b**2 / n_b))\n",
        "\n",
        "\n",
        "    t_stat = (mean_a - mean_b) / se_diff\n",
        "\n",
        "\n",
        "    df = n_a + n_b - 2\n",
        "\n",
        "\n",
        "    p_value = 2 * t.cdf(-abs(t_stat), df)\n",
        "\n",
        "    return t_stat, df, p_value\n",
        "\n",
        "t_stat, df, p_value = ab_test(layout_a_clicks, layout_b_clicks)\n",
        "\n",
        "\n",
        "print(f\"T-statistic: {t_stat:.4f}\")\n",
        "print(f\"Degrees of freedom: {df}\")\n",
        "print(f\"P-value: {p_value:.4f}\")\n",
        "\n",
        "\n",
        "alpha = 0.05\n",
        "if p_value < alpha:\n",
        "    print(\"Reject the null hypothesis: There is a significant difference between the click-through rates of the two layouts.\")\n",
        "else:\n",
        "    print(\"Fail to reject the null hypothesis: There is no significant difference between the click-through rates of the two layouts.\")\n"
      ]
    },
    {
      "cell_type": "code",
      "execution_count": null,
      "id": "bc016a71-4fed-4cc1-a1a7-2169d6ec8ae0",
      "metadata": {
        "id": "bc016a71-4fed-4cc1-a1a7-2169d6ec8ae0"
      },
      "outputs": [],
      "source": [
        "# #16)A pharmaceutical company wants to detemine if a new drug is sore effective than an existing drug in\n",
        "# reducing cholesterol levels.Create a program to analyze the clinical trial data and calculate the t-statistic and p-value for the treatment effect.\n",
        "\n",
        "\n",
        "# Use the following data of cholestrol level:\n",
        "\n",
        "# ```python\n",
        "\n",
        "# existisng_drug_levels = [180, 182, 175, 185, 178, 176, 172, 184, 179, 183]\n",
        "\n",
        "# new_drug_levels = [170, 172, 165, 168, 175, 173, 170, 178, 172, 176]"
      ]
    },
    {
      "cell_type": "code",
      "execution_count": null,
      "id": "d7603eb3-a2e1-4752-b7dd-b0d3f9060c00",
      "metadata": {
        "id": "d7603eb3-a2e1-4752-b7dd-b0d3f9060c00",
        "outputId": "c0a5c1ed-83fa-404f-fa56-7fc50c43ab77"
      },
      "outputs": [
        {
          "name": "stdout",
          "output_type": "stream",
          "text": [
            "T-statistic: 4.1405\n",
            "Degrees of freedom: 18\n",
            "P-value: 0.0006\n",
            "Reject the null hypothesis: The new drug is significantly more effective in reducing cholesterol levels.\n"
          ]
        }
      ],
      "source": [
        "import numpy as np\n",
        "from scipy.stats import t\n",
        "\n",
        "existing_drug_levels = [180, 182, 175, 185, 178, 176, 172, 184, 179, 183]\n",
        "new_drug_levels = [170, 172, 165, 168, 175, 173, 170, 178, 172, 176]\n",
        "\n",
        "\n",
        "def independent_ttest(data1, data2):\n",
        "\n",
        "    data1 = np.array(data1)\n",
        "    data2 = np.array(data2)\n",
        "\n",
        "\n",
        "    mean1 = np.mean(data1)\n",
        "    mean2 = np.mean(data2)\n",
        "\n",
        "\n",
        "    std1 = np.std(data1, ddof=1)\n",
        "    std2 = np.std(data2, ddof=1)\n",
        "\n",
        "\n",
        "    n1 = len(data1)\n",
        "    n2 = len(data2)\n",
        "\n",
        "\n",
        "    se_diff = np.sqrt((std1**2 / n1) + (std2**2 / n2))\n",
        "\n",
        "\n",
        "    t_stat = (mean1 - mean2) / se_diff\n",
        "\n",
        "    df = n1 + n2 - 2\n",
        "\n",
        "\n",
        "    p_value = 2 * t.cdf(-abs(t_stat), df)\n",
        "\n",
        "    return t_stat, df, p_value\n",
        "\n",
        "\n",
        "t_stat, df, p_value = independent_ttest(existing_drug_levels, new_drug_levels)\n",
        "\n",
        "print(f\"T-statistic: {t_stat:.4f}\")\n",
        "print(f\"Degrees of freedom: {df}\")\n",
        "print(f\"P-value: {p_value:.4f}\")\n",
        "\n",
        "\n",
        "alpha = 0.05\n",
        "if p_value < alpha:\n",
        "    print(\"Reject the null hypothesis: The new drug is significantly more effective in reducing cholesterol levels.\")\n",
        "else:\n",
        "    print(\"Fail to reject the null hypothesis: There is no significant difference in effectiveness between the new drug and the existing drug.\")\n"
      ]
    },
    {
      "cell_type": "code",
      "execution_count": null,
      "id": "7fcc209a-4f83-46d4-8fc3-12194664bd7d",
      "metadata": {
        "id": "7fcc209a-4f83-46d4-8fc3-12194664bd7d"
      },
      "outputs": [],
      "source": [
        "#17)A school district introduces an educational intervention program to improve math scores. Write a Python\n",
        "# function to analyze pre- and post-intervention test scores, calculating the t-statistic and p-value to\n",
        "# determine if the intervention had a significant impact.\n",
        "\n",
        "\n",
        "# Use the following data of test score:\n",
        "\n",
        "\n",
        "#   ```python\n",
        "\n",
        "#   pre_intervention_scores = [80, 85, 90, 75, 88, 82, 92, 78, 85, 87]\n",
        "\n",
        "#   post_intervention_scores = [90, 92, 88, 92, 95, 91, 96, 93, 89, 93]\n"
      ]
    },
    {
      "cell_type": "code",
      "execution_count": null,
      "id": "82d5f280-1fc8-4aeb-bc44-2b02d6aca884",
      "metadata": {
        "id": "82d5f280-1fc8-4aeb-bc44-2b02d6aca884",
        "outputId": "8ac5b5b6-c59d-411f-d650-5fa6075f4e3d"
      },
      "outputs": [
        {
          "name": "stdout",
          "output_type": "stream",
          "text": [
            "T-statistic: 4.4284\n",
            "Degrees of freedom: 9\n",
            "P-value: 0.0017\n",
            "Reject the null hypothesis: The educational intervention program had a significant impact on math scores.\n"
          ]
        }
      ],
      "source": [
        "import numpy as np\n",
        "from scipy.stats import t\n",
        "\n",
        "\n",
        "pre_intervention_scores = [80, 85, 90, 75, 88, 82, 92, 78, 85, 87]\n",
        "post_intervention_scores = [90, 92, 88, 92, 95, 91, 96, 93, 89, 93]\n",
        "\n",
        "\n",
        "def paired_ttest(pre_scores, post_scores):\n",
        "\n",
        "    pre_scores = np.array(pre_scores)\n",
        "    post_scores = np.array(post_scores)\n",
        "\n",
        "\n",
        "    differences = post_scores - pre_scores\n",
        "\n",
        "\n",
        "    mean_diff = np.mean(differences)\n",
        "\n",
        "\n",
        "    std_diff = np.std(differences, ddof=1)\n",
        "\n",
        "\n",
        "    se_diff = std_diff / np.sqrt(len(differences))\n",
        "\n",
        "\n",
        "    t_stat = mean_diff / se_diff\n",
        "\n",
        "\n",
        "    df = len(differences) - 1\n",
        "\n",
        "\n",
        "    p_value = 2 * t.cdf(-abs(t_stat), df)\n",
        "\n",
        "    return t_stat, df, p_value\n",
        "\n",
        "\n",
        "t_stat, df, p_value = paired_ttest(pre_intervention_scores, post_intervention_scores)\n",
        "\n",
        "\n",
        "print(f\"T-statistic: {t_stat:.4f}\")\n",
        "print(f\"Degrees of freedom: {df}\")\n",
        "print(f\"P-value: {p_value:.4f}\")\n",
        "\n",
        "\n",
        "alpha = 0.05\n",
        "if p_value < alpha:\n",
        "    print(\"Reject the null hypothesis: The educational intervention program had a significant impact on math scores.\")\n",
        "else:\n",
        "    print(\"Fail to reject the null hypothesis: There is no significant evidence that the educational intervention program had an impact on math scores.\")\n"
      ]
    },
    {
      "cell_type": "code",
      "execution_count": null,
      "id": "ed0c833f-befe-4316-8785-e61413b2bbe3",
      "metadata": {
        "id": "ed0c833f-befe-4316-8785-e61413b2bbe3"
      },
      "outputs": [],
      "source": [
        "#18)An HR department wants to investigate if there's a gender-based salary gap within the company. Develop\n",
        "# a program to analyze salary data, calculate the t-statistic, and determine is there's a statistically\n",
        "# significant difference between the average salaries of male and female employees.\n",
        "\n",
        "\n",
        "# Use the below code to generate synthetic data\n",
        "# ```python\n",
        "\n",
        "# # Generate synthetic salary data for male and female employees\n",
        "\n",
        "# np.random.seed(0)  # For reproducibility\n",
        "\n",
        "# male_salaries = np.random.normal(loc=50000, scale=10000, size=20)\n",
        "\n",
        "# female_salaries = np.random.normal(loc=55000, scale=9000, size=20)"
      ]
    },
    {
      "cell_type": "code",
      "execution_count": null,
      "id": "eb335f7c-e295-4636-96d0-8891d5106dc1",
      "metadata": {
        "id": "eb335f7c-e295-4636-96d0-8891d5106dc1",
        "outputId": "40b0aa29-befd-4d1e-9826-a7e4a3f0a173"
      },
      "outputs": [
        {
          "name": "stdout",
          "output_type": "stream",
          "text": [
            "T-statistic: 0.0611\n",
            "Degrees of freedom: 38\n",
            "P-value: 0.9516\n",
            "Fail to reject the null hypothesis: There is no significant difference between the average salaries of male and female employees.\n"
          ]
        }
      ],
      "source": [
        "import numpy as np\n",
        "from scipy.stats import t\n",
        "\n",
        "\n",
        "np.random.seed(0)\n",
        "\n",
        "male_salaries = np.random.normal(loc=50000, scale=10000, size=20)\n",
        "female_salaries = np.random.normal(loc=55000, scale=9000, size=20)\n",
        "\n",
        "\n",
        "def independent_ttest(data1, data2):\n",
        "\n",
        "    data1 = np.array(data1)\n",
        "    data2 = np.array(data2)\n",
        "\n",
        "\n",
        "    mean1 = np.mean(data1)\n",
        "    mean2 = np.mean(data2)\n",
        "\n",
        "\n",
        "    std1 = np.std(data1, ddof=1)\n",
        "    std2 = np.std(data2, ddof=1)\n",
        "\n",
        "\n",
        "    n1 = len(data1)\n",
        "    n2 = len(data2)\n",
        "\n",
        "\n",
        "    se_diff = np.sqrt((std1**2 / n1) + (std2**2 / n2))\n",
        "\n",
        "\n",
        "    t_stat = (mean1 - mean2) / se_diff\n",
        "\n",
        "\n",
        "    df = n1 + n2 - 2\n",
        "\n",
        "\n",
        "    p_value = 2 * t.cdf(-abs(t_stat), df)\n",
        "\n",
        "    return t_stat, df, p_value\n",
        "\n",
        "\n",
        "t_stat, df, p_value = independent_ttest(male_salaries, female_salaries)\n",
        "\n",
        "print(f\"T-statistic: {t_stat:.4f}\")\n",
        "print(f\"Degrees of freedom: {df}\")\n",
        "print(f\"P-value: {p_value:.4f}\")\n",
        "\n",
        "\n",
        "alpha = 0.05\n",
        "if p_value < alpha:\n",
        "    print(\"Reject the null hypothesis: There is a significant difference between the average salaries of male and female employees.\")\n",
        "else:\n",
        "    print(\"Fail to reject the null hypothesis: There is no significant difference between the average salaries of male and female employees.\")\n"
      ]
    },
    {
      "cell_type": "code",
      "execution_count": null,
      "id": "d4a28cfd-359f-41e7-bf67-2d90cf3aa5c9",
      "metadata": {
        "id": "d4a28cfd-359f-41e7-bf67-2d90cf3aa5c9"
      },
      "outputs": [],
      "source": [
        "#19)A manufacturer produces two different versions of a product and wants to compare their quality scores.\n",
        "# Create a Python function to analyze quality assessment data, calculate the t-statistic, and decide\n",
        "# whether there's a significant difference in quality between the two versions.\n",
        "\n",
        "\n",
        "# Use the following data\n",
        "# ```python\n",
        "\n",
        "# version1_scores = [85, 88, 82, 89, 87, 84, 90, 88, 85, 86, 91, 83, 87, 84, 89, 86, 84, 88, 85, 86, 89, 90, 87, 88, 85]\n",
        "\n",
        "# version2_scores = [80, 78, 83, 81, 79, 82, 76, 80, 78, 81, 77, 82, 80, 79, 82, 79, 80, 81, 79, 82, 79, 78, 80, 81, 82]"
      ]
    },
    {
      "cell_type": "code",
      "execution_count": null,
      "id": "8542f09f-5451-4268-aa06-add72ff34a8b",
      "metadata": {
        "id": "8542f09f-5451-4268-aa06-add72ff34a8b",
        "outputId": "509ee387-1571-4539-f701-744e9d8efd63"
      },
      "outputs": [
        {
          "name": "stdout",
          "output_type": "stream",
          "text": [
            "T-statistic: 11.3258\n",
            "Degrees of freedom: 44.4706\n",
            "P-value: 0.0000\n",
            "Reject the null hypothesis: There is a significant difference in quality between the two versions.\n"
          ]
        }
      ],
      "source": [
        "import numpy as np\n",
        "from scipy.stats import t\n",
        "\n",
        "\n",
        "version1_scores = [85, 88, 82, 89, 87, 84, 90, 88, 85, 86, 91, 83, 87, 84, 89, 86, 84, 88, 85, 86, 89, 90, 87, 88, 85]\n",
        "version2_scores = [80, 78, 83, 81, 79, 82, 76, 80, 78, 81, 77, 82, 80, 79, 82, 79, 80, 81, 79, 82, 79, 78, 80, 81, 82]\n",
        "\n",
        "\n",
        "def independent_ttest(data1, data2):\n",
        "\n",
        "    data1 = np.array(data1)\n",
        "    data2 = np.array(data2)\n",
        "\n",
        "\n",
        "    mean1 = np.mean(data1)\n",
        "    mean2 = np.mean(data2)\n",
        "\n",
        "\n",
        "    std1 = np.std(data1, ddof=1)\n",
        "    std2 = np.std(data2, ddof=1)\n",
        "\n",
        "\n",
        "    n1 = len(data1)\n",
        "    n2 = len(data2)\n",
        "\n",
        "\n",
        "    se_diff = np.sqrt((std1**2 / n1) + (std2**2 / n2))\n",
        "\n",
        "\n",
        "    t_stat = (mean1 - mean2) / se_diff\n",
        "\n",
        "\n",
        "    df = (std1**2 / n1 + std2**2 / n2)**2 / ((std1**2 / n1)**2 / (n1 - 1) + (std2**2 / n2)**2 / (n2 - 1))\n",
        "\n",
        "\n",
        "    p_value = 2 * t.cdf(-abs(t_stat), df)\n",
        "\n",
        "    return t_stat, df, p_value\n",
        "\n",
        "\n",
        "t_stat, df, p_value = independent_ttest(version1_scores, version2_scores)\n",
        "\n",
        "print(f\"T-statistic: {t_stat:.4f}\")\n",
        "print(f\"Degrees of freedom: {df:.4f}\")\n",
        "print(f\"P-value: {p_value:.4f}\")\n",
        "\n",
        "\n",
        "alpha = 0.05\n",
        "if p_value < alpha:\n",
        "    print(\"Reject the null hypothesis: There is a significant difference in quality between the two versions.\")\n",
        "else:\n",
        "    print(\"Fail to reject the null hypothesis: There is no significant difference in quality between the two versions.\")\n"
      ]
    },
    {
      "cell_type": "code",
      "execution_count": null,
      "id": "4d738aa2-1160-4b88-b567-f026e30b8954",
      "metadata": {
        "id": "4d738aa2-1160-4b88-b567-f026e30b8954"
      },
      "outputs": [],
      "source": [
        "#20) 20. A restaurant chain collects customer satisfaction scores for two different branches. Write a program to\n",
        "# analyze the scores, calculate the t-statistic, and determine is there's a statistically significant difference in\n",
        "# customer satisfaction between the branches.\n",
        "\n",
        "\n",
        "# Use the below data of scores:\n",
        "\n",
        "#   ```python\n",
        "\n",
        "# branch_a_scores = [4, 5, 3, 4, 5, 4, 5, 3, 4, 4, 5, 4, 4, 3, 4, 5, 5, 4, 3, 4, 5, 4, 3, 5, 4, 4, 5, 3, 4, 5, 4]\n",
        "\n",
        "# branch_b_scores = [3, 4, 2, 3, 4, 3, 4, 2, 3, 3, 4, 3, 3, 2, 3, 4, 4, 3, 2, 3, 4, 3, 2, 4, 3, 3, 4, 2, 3, 4, 3]"
      ]
    },
    {
      "cell_type": "code",
      "execution_count": null,
      "id": "8ce7e056-8f65-4b11-983e-14c020056295",
      "metadata": {
        "id": "8ce7e056-8f65-4b11-983e-14c020056295",
        "outputId": "1ef85a13-4696-47ef-f1e7-e054fae76ec0"
      },
      "outputs": [
        {
          "name": "stdout",
          "output_type": "stream",
          "text": [
            "T-statistic: 5.4801\n",
            "Degrees of freedom: 60.0000\n",
            "P-value: 0.0000\n",
            "Reject the null hypothesis: There is a significant difference in customer satisfaction between the two branches.\n"
          ]
        }
      ],
      "source": [
        "import numpy as np\n",
        "from scipy.stats import t\n",
        "\n",
        "\n",
        "branch_a_scores = [4, 5, 3, 4, 5, 4, 5, 3, 4, 4, 5, 4, 4, 3, 4, 5, 5, 4, 3, 4, 5, 4, 3, 5, 4, 4, 5, 3, 4, 5, 4]\n",
        "branch_b_scores = [3, 4, 2, 3, 4, 3, 4, 2, 3, 3, 4, 3, 3, 2, 3, 4, 4, 3, 2, 3, 4, 3, 2, 4, 3, 3, 4, 2, 3, 4, 3]\n",
        "\n",
        "\n",
        "def independent_ttest(data1, data2):\n",
        "\n",
        "    data1 = np.array(data1)\n",
        "    data2 = np.array(data2)\n",
        "\n",
        "\n",
        "    mean1 = np.mean(data1)\n",
        "    mean2 = np.mean(data2)\n",
        "\n",
        "\n",
        "    std1 = np.std(data1, ddof=1)\n",
        "    std2 = np.std(data2, ddof=1)\n",
        "\n",
        "\n",
        "    n1 = len(data1)\n",
        "    n2 = len(data2)\n",
        "\n",
        "\n",
        "    se_diff = np.sqrt((std1**2 / n1) + (std2**2 / n2))\n",
        "\n",
        "\n",
        "    t_stat = (mean1 - mean2) / se_diff\n",
        "\n",
        "\n",
        "    df = (std1**2 / n1 + std2**2 / n2)**2 / ((std1**2 / n1)**2 / (n1 - 1) + (std2**2 / n2)**2 / (n2 - 1))\n",
        "\n",
        "\n",
        "    p_value = 2 * t.cdf(-abs(t_stat), df)\n",
        "\n",
        "    return t_stat, df, p_value\n",
        "\n",
        "\n",
        "t_stat, df, p_value = independent_ttest(branch_a_scores, branch_b_scores)\n",
        "\n",
        "print(f\"T-statistic: {t_stat:.4f}\")\n",
        "print(f\"Degrees of freedom: {df:.4f}\")\n",
        "print(f\"P-value: {p_value:.4f}\")\n",
        "\n",
        "alpha = 0.05\n",
        "if p_value < alpha:\n",
        "    print(\"Reject the null hypothesis: There is a significant difference in customer satisfaction between the two branches.\")\n",
        "else:\n",
        "    print(\"Fail to reject the null hypothesis: There is no significant difference in customer satisfaction between the two branches.\")\n"
      ]
    },
    {
      "cell_type": "code",
      "execution_count": null,
      "id": "99298826-bdac-4cc7-a10d-54045adb3dc4",
      "metadata": {
        "id": "99298826-bdac-4cc7-a10d-54045adb3dc4"
      },
      "outputs": [],
      "source": [
        "#21A political analyst wants to determine if there is a significant association between age groups and voter\n",
        "# preferences (Candidate A or Candidate B). They collect data from a sample of 500 voters and classify\n",
        "# them into different age groups and candidate preferences. Perform a Chi-Square test to determine if\n",
        "# there is a significant association between age groups and voter preferences.\n",
        "\n",
        "\n",
        "# Use the below code to generate data:\n",
        "\n",
        "# ```python\n",
        "\n",
        "# np.random.seed(0)\n",
        "\n",
        "# age_groups = np.random.choice([ 18 30 , 31 50 , 51+', 51+'], size=30)\n",
        "\n",
        "# voter_preferences = np.random.choice(['Candidate A', 'Candidate B'], size=30)"
      ]
    },
    {
      "cell_type": "code",
      "execution_count": null,
      "id": "b096b3c9-c4d0-4bad-a1e3-7b3b4c165863",
      "metadata": {
        "id": "b096b3c9-c4d0-4bad-a1e3-7b3b4c165863",
        "outputId": "ea9851d4-2437-4a79-cfc9-9d262cbb94ce"
      },
      "outputs": [
        {
          "name": "stdout",
          "output_type": "stream",
          "text": [
            "Chi-Square Statistic: 0.8780\n",
            "P-value: 0.6447\n",
            "Degrees of Freedom: 2\n",
            "Expected Frequencies Table:\n",
            "[[96.824 85.176]\n",
            " [89.908 79.092]\n",
            " [79.268 69.732]]\n",
            "Fail to reject the null hypothesis: There is no significant association between age groups and voter preferences.\n"
          ]
        }
      ],
      "source": [
        "import numpy as np\n",
        "import pandas as pd\n",
        "from scipy.stats import chi2_contingency\n",
        "\n",
        "\n",
        "np.random.seed(0)\n",
        "age_groups = np.random.choice(['18-30', '31-50', '51+'], size=500)\n",
        "voter_preferences = np.random.choice(['Candidate A', 'Candidate B'], size=500)\n",
        "\n",
        "data = pd.DataFrame({\n",
        "    'Age Group': age_groups,\n",
        "    'Voter Preference': voter_preferences\n",
        "})\n",
        "\n",
        "\n",
        "contingency_table = pd.crosstab(data['Age Group'], data['Voter Preference'])\n",
        "\n",
        "\n",
        "chi2_stat, p_value, dof, expected = chi2_contingency(contingency_table)\n",
        "\n",
        "\n",
        "print(f\"Chi-Square Statistic: {chi2_stat:.4f}\")\n",
        "print(f\"P-value: {p_value:.4f}\")\n",
        "print(f\"Degrees of Freedom: {dof}\")\n",
        "print(f\"Expected Frequencies Table:\\n{expected}\")\n",
        "\n",
        "\n",
        "alpha = 0.05\n",
        "if p_value < alpha:\n",
        "    print(\"Reject the null hypothesis: There is a significant association between age groups and voter preferences.\")\n",
        "else:\n",
        "    print(\"Fail to reject the null hypothesis: There is no significant association between age groups and voter preferences.\")\n"
      ]
    },
    {
      "cell_type": "code",
      "execution_count": null,
      "id": "8ce92238-e0ec-4522-9451-7707e2e1d9ff",
      "metadata": {
        "id": "8ce92238-e0ec-4522-9451-7707e2e1d9ff"
      },
      "outputs": [],
      "source": [
        "#22). A company conducted a customer satisfaction survey to determine if there is a significant relationship\n",
        "# between product satisfaction levels (Satisfied, Neutral, Dissatisfied) and the region where customers are\n",
        "# located (East, West, North, South). The survey data is summarized in a contingency table. Conduct a ChiSquare test to determine if there is a significant relationship between product satisfaction levels and\n",
        "# customer regions.\n",
        "\n",
        "\n",
        "# Sample data:\n",
        "\n",
        "# ```python\n",
        "\n",
        "# #Sample data: Product satisfaction levels (rows) vs. Customer regions (columns)\n",
        "\n",
        "# data = np.array([[50, 30, 40, 20], [30, 40, 30, 50], [20, 30, 40, 30]])"
      ]
    },
    {
      "cell_type": "code",
      "execution_count": null,
      "id": "0fb42aeb-1a8a-4dec-a86d-9b1b98e0a3f9",
      "metadata": {
        "id": "0fb42aeb-1a8a-4dec-a86d-9b1b98e0a3f9",
        "outputId": "aeaf89ef-6e38-46a0-ff6a-5ba308ee50bd"
      },
      "outputs": [
        {
          "name": "stdout",
          "output_type": "stream",
          "text": [
            "Chi-Square Statistic: 27.7771\n",
            "P-value: 0.0001\n",
            "Degrees of Freedom: 6\n",
            "Expected Frequencies Table:\n",
            "[[34.14634146 34.14634146 37.56097561 34.14634146]\n",
            " [36.58536585 36.58536585 40.24390244 36.58536585]\n",
            " [29.26829268 29.26829268 32.19512195 29.26829268]]\n",
            "Reject the null hypothesis: There is a significant relationship between product satisfaction levels and customer regions.\n"
          ]
        }
      ],
      "source": [
        "import numpy as np\n",
        "from scipy.stats import chi2_contingency\n",
        "\n",
        "\n",
        "data = np.array([[50, 30, 40, 20],\n",
        "                 [30, 40, 30, 50],\n",
        "                 [20, 30, 40, 30]])\n",
        "\n",
        "\n",
        "chi2_stat, p_value, dof, expected = chi2_contingency(data)\n",
        "\n",
        "\n",
        "print(f\"Chi-Square Statistic: {chi2_stat:.4f}\")\n",
        "print(f\"P-value: {p_value:.4f}\")\n",
        "print(f\"Degrees of Freedom: {dof}\")\n",
        "print(f\"Expected Frequencies Table:\\n{expected}\")\n",
        "\n",
        "\n",
        "alpha = 0.05\n",
        "if p_value < alpha:\n",
        "    print(\"Reject the null hypothesis: There is a significant relationship between product satisfaction levels and customer regions.\")\n",
        "else:\n",
        "    print(\"Fail to reject the null hypothesis: There is no significant relationship between product satisfaction levels and customer regions.\")\n"
      ]
    },
    {
      "cell_type": "code",
      "execution_count": null,
      "id": "18388311-983a-4e34-b77e-f9a8568a4153",
      "metadata": {
        "id": "18388311-983a-4e34-b77e-f9a8568a4153"
      },
      "outputs": [],
      "source": [
        "#23)A company implemented an employee training program to improve job performance (Effective, Neutral,\n",
        "# Ineffective). After the training, they collected data from a sample of employees and classified them based\n",
        "# on their job performance before and after the training. Perform a Chi-Square test to determine if there is a\n",
        "# significant difference between job performance levels before and after the training.\n",
        "\n",
        "\n",
        "# Sample data:\n",
        "\n",
        "# ```python\n",
        "\n",
        "# # Sample data: Job performance levels before (rows) and after (columns) training\n",
        "\n",
        "# data = np.array([[50, 30, 20], [30, 40, 30], [20, 30, 40]])"
      ]
    },
    {
      "cell_type": "code",
      "execution_count": null,
      "id": "01f11431-e750-43d6-8df2-2aef7fbb3c99",
      "metadata": {
        "id": "01f11431-e750-43d6-8df2-2aef7fbb3c99",
        "outputId": "a3d55f36-5d9c-4668-ad5e-bae380b49250"
      },
      "outputs": [
        {
          "name": "stdout",
          "output_type": "stream",
          "text": [
            "Chi-Square Statistic: 22.1617\n",
            "P-value: 0.0002\n",
            "Degrees of Freedom: 4\n",
            "Expected Frequencies Table:\n",
            "[[34.48275862 34.48275862 31.03448276]\n",
            " [34.48275862 34.48275862 31.03448276]\n",
            " [31.03448276 31.03448276 27.93103448]]\n",
            "Reject the null hypothesis: There is a significant difference in job performance levels before and after the training.\n"
          ]
        }
      ],
      "source": [
        "import numpy as np\n",
        "from scipy.stats import chi2_contingency\n",
        "\n",
        "\n",
        "data = np.array([[50, 30, 20],\n",
        "                 [30, 40, 30],\n",
        "                 [20, 30, 40]])\n",
        "\n",
        "\n",
        "chi2_stat, p_value, dof, expected = chi2_contingency(data)\n",
        "\n",
        "\n",
        "print(f\"Chi-Square Statistic: {chi2_stat:.4f}\")\n",
        "print(f\"P-value: {p_value:.4f}\")\n",
        "print(f\"Degrees of Freedom: {dof}\")\n",
        "print(f\"Expected Frequencies Table:\\n{expected}\")\n",
        "\n",
        "\n",
        "alpha = 0.05\n",
        "if p_value < alpha:\n",
        "    print(\"Reject the null hypothesis: There is a significant difference in job performance levels before and after the training.\")\n",
        "else:\n",
        "    print(\"Fail to reject the null hypothesis: There is no significant difference in job performance levels before and after the training.\")\n"
      ]
    },
    {
      "cell_type": "code",
      "execution_count": null,
      "id": "a442fe02-6006-4d42-873e-db1e848f7e63",
      "metadata": {
        "id": "a442fe02-6006-4d42-873e-db1e848f7e63"
      },
      "outputs": [],
      "source": [
        "#24) 24. A company produces three different versions of a product: Standard, Premium, and Deluxe. The\n",
        "# company wants to determine if there is a significant difference in customer satisfaction scores among the\n",
        "# three product versions. They conducted a survey and collected customer satisfaction scores for each\n",
        "# version from a random sample of customers. Perform an ANOVA test to determine if there is a significant\n",
        "# difference in customer satisfaction scores.\n",
        "\n",
        "\n",
        "#   Use the following data:\n",
        "\n",
        "#   ```python\n",
        "\n",
        "#   # Sample data: Customer satisfaction scores for each product version\n",
        "\n",
        "#   standard_scores = [80, 85, 90, 78, 88, 82, 92, 78, 85, 87]\n",
        "\n",
        "#   premium_scores = [90, 92, 88, 92, 95, 91, 96, 93, 89, 93]\n",
        "\n",
        "  # deluxe_scores = [95, 98, 92, 97, 96, 94, 98, 97, 92, 99]"
      ]
    },
    {
      "cell_type": "code",
      "execution_count": null,
      "id": "86f0655f-7e0d-4797-ba50-1557878e7676",
      "metadata": {
        "id": "86f0655f-7e0d-4797-ba50-1557878e7676",
        "outputId": "8eacff3e-2130-4ead-f68b-a846416ab4ae"
      },
      "outputs": [
        {
          "name": "stdout",
          "output_type": "stream",
          "text": [
            "F-statistic: 27.0356\n",
            "P-value: 0.0000\n",
            "Reject the null hypothesis: There is a significant difference in customer satisfaction scores among the product versions.\n"
          ]
        }
      ],
      "source": [
        "import numpy as np\n",
        "from scipy.stats import f_oneway\n",
        "\n",
        "\n",
        "standard_scores = [80, 85, 90, 78, 88, 82, 92, 78, 85, 87]\n",
        "premium_scores = [90, 92, 88, 92, 95, 91, 96, 93, 89, 93]\n",
        "deluxe_scores = [95, 98, 92, 97, 96, 94, 98, 97, 92, 99]\n",
        "\n",
        "\n",
        "f_stat, p_value = f_oneway(standard_scores, premium_scores, deluxe_scores)\n",
        "\n",
        "print(f\"F-statistic: {f_stat:.4f}\")\n",
        "print(f\"P-value: {p_value:.4f}\")\n",
        "\n",
        "\n",
        "alpha = 0.05\n",
        "if p_value < alpha:\n",
        "    print(\"Reject the null hypothesis: There is a significant difference in customer satisfaction scores among the product versions.\")\n",
        "else:\n",
        "    print(\"Fail to reject the null hypothesis: There is no significant difference in customer satisfaction scores among the product versions.\")\n"
      ]
    },
    {
      "cell_type": "code",
      "execution_count": null,
      "id": "91a4c1eb-1f1d-40fa-a597-4e9c9acb385c",
      "metadata": {
        "id": "91a4c1eb-1f1d-40fa-a597-4e9c9acb385c"
      },
      "outputs": [],
      "source": []
    }
  ],
  "metadata": {
    "kernelspec": {
      "display_name": "Python 3 (ipykernel)",
      "language": "python",
      "name": "python3"
    },
    "language_info": {
      "codemirror_mode": {
        "name": "ipython",
        "version": 3
      },
      "file_extension": ".py",
      "mimetype": "text/x-python",
      "name": "python",
      "nbconvert_exporter": "python",
      "pygments_lexer": "ipython3",
      "version": "3.10.8"
    },
    "colab": {
      "provenance": [],
      "include_colab_link": true
    }
  },
  "nbformat": 4,
  "nbformat_minor": 5
}